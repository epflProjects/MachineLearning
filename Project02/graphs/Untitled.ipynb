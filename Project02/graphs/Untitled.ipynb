{
 "cells": [
  {
   "cell_type": "code",
   "execution_count": 9,
   "metadata": {
    "collapsed": true
   },
   "outputs": [],
   "source": [
    "import matplotlib.pyplot as plt\n",
    "import numpy as np\n",
    "import re\n"
   ]
  },
  {
   "cell_type": "code",
   "execution_count": 109,
   "metadata": {},
   "outputs": [],
   "source": [
    "logs1 = [line.rstrip() for line in open('kerastweet-8-logs.txt')]\n",
    "logs2 = [line.rstrip() for line in open('kerastweet-10-logs.txt')]\n",
    "logs = logs1+logs2\n",
    "Blog1 = [line.rstrip() for line in open('tweet-classification-8-logs.txt')]\n",
    "Blog2 = [line.rstrip() for line in open('tweet-classification-9-logs.txt')]\n",
    "Blogs = Blog1+Blog2"
   ]
  },
  {
   "cell_type": "code",
   "execution_count": 110,
   "metadata": {},
   "outputs": [],
   "source": [
    "regex = r\".acc: 0.([0-9]{4})\"\n",
    "\n",
    "regval = r\".val_acc: 0.([0-9]{4})\"\n",
    "\n",
    "accuracies1 = []\n",
    "accuracies2 = []\n",
    "val_acc1 = []\n",
    "val_acc2 = []\n",
    "\n",
    "for i,l in enumerate(logs):\n",
    "    matches = re.finditer(regex, l)\n",
    "    valmatches = re.finditer(regval,l)\n",
    "    for match in matches:\n",
    "        accuracies1.append((i,match.group(1)))\n",
    "    for match in valmatches:\n",
    "        val_acc1.append((i,match.group(1)))\n",
    "        \n",
    "for i,l in enumerate(Blogs):\n",
    "    matches = re.finditer(regex, l)\n",
    "    valmatches = re.finditer(regval,l)\n",
    "    for match in matches:\n",
    "        accuracies2.append((i,match.group(1)))\n",
    "    for match in valmatches:\n",
    "        val_acc2.append((i,match.group(1)))\n",
    "        \n",
    "\n"
   ]
  },
  {
   "cell_type": "code",
   "execution_count": 111,
   "metadata": {},
   "outputs": [],
   "source": [
    "accuracies1X = [ind for ind,i in accuracies1]\n",
    "val_acc1X = [ind for ind,i in val_acc1]\n",
    "\n",
    "accuracies1Y = [float(i)/100 for ind,i in accuracies1]\n",
    "val_acc1Y = [float(i)/100 for ind,i in val_acc1]\n",
    "\n",
    "accuracies2X = [ind for ind,i in accuracies2]\n",
    "val_acc2X = [ind for ind,i in val_acc2]\n",
    "\n",
    "accuracies2Y = [float(i)/100 for ind,i in accuracies2]\n",
    "val_acc2Y = [float(i)/100 for ind,i in val_acc2]\n",
    "\n"
   ]
  },
  {
   "cell_type": "code",
   "execution_count": 112,
   "metadata": {},
   "outputs": [
    {
     "data": {
      "text/plain": [
       "<matplotlib.figure.Figure at 0x11d948470>"
      ]
     },
     "metadata": {},
     "output_type": "display_data"
    },
    {
     "data": {
      "image/png": "[encoded data removed]",
      "text/plain": [
       "<matplotlib.figure.Figure at 0x11d9483c8>"
      ]
     },
     "metadata": {},
     "output_type": "display_data"
    }
   ],
   "source": [
    "plt.figure()\n",
    "\n",
    "Font = 16\n",
    "subsample = 2\n",
    "\n",
    "\n",
    "fig, ax = plt.subplots()\n",
    "\n",
    "ax.plot(accuracies1X, accuracies1Y)\n",
    "ax.plot(val_acc1X, val_acc1Y, 'x', color=\"r\")\n",
    "\n",
    "ax.plot(accuracies2X, accuracies2Y)\n",
    "ax.plot(val_acc2X, val_acc2Y, 'x', color=\"g\")\n",
    "\n",
    "hours = np.arange(len(val_acc2X[::subsample]))*1.5*subsample+1.5*subsample\n",
    "\n",
    "plt.yticks(np.arange(5,10)*10, fontsize=Font)\n",
    "plt.xticks(val_acc2X[::subsample], hours, fontsize=Font)\n",
    "plt.legend([\"CNN 1 : train\", \"CNN 1 : test\", \"CNN 2 : train\", \"CNN 2 : test\"])\n",
    "\n",
    "ax.set_xlabel('Approx. training time [h]', fontsize=Font)\n",
    "ax.set_ylabel('Accuracy [%]', fontsize=Font)\n",
    "\n",
    "ax.grid(True)\n",
    "plt.tight_layout()\n",
    "plt.savefig('CNNaccuracy.eps', format='eps', dpi=1000)\n",
    "plt.show()"
   ]
  },
  {
   "cell_type": "code",
   "execution_count": 74,
   "metadata": {},
   "outputs": [
    {
     "name": "stdout",
     "output_type": "stream",
     "text": [
      "[49.0, 50.67, 52.0, 47.6, 47.33, 48.86, 48.25, 48.0, 47.6, 47.82, 48.17, 48.62, 49.0, 49.6, 49.87, 50.24, 50.89, 51.79, 52.7, 52.57, 52.82, 53.04, 53.17, 53.76, 54.15, 54.52, 55.14, 55.24, 55.47, 55.94, 55.94, 55.7, 55.82, 55.94, 56.17, 56.32, 56.47, 56.77, 56.5, 56.54, 56.38, 56.56, 56.5, 56.62, 56.83, 56.89, 56.92, 57.31, 57.24, 56.98, 56.92, 57.21, 57.3, 57.31, 57.46, 57.4, 57.79, 58.07, 58.13, 58.2, 58.29, 58.44, 58.69, 58.83, 59.15, 59.22, 59.53, 59.65, 59.57, 59.63, 59.72, 60.0, 60.08, 60.16, 60.18, 60.21, 60.26, 60.43, 60.62, 60.69, 60.76, 60.77, 60.86, 60.85, 60.95, 60.97, 61.14, 61.15, 61.18, 61.23, 61.33, 61.51, 61.49, 61.43, 61.42, 61.48, 61.59, 61.76, 61.78]\n"
     ]
    }
   ],
   "source": [
    "print(accuraciesY[1:100])"
   ]
  },
  {
   "cell_type": "code",
   "execution_count": null,
   "metadata": {
    "collapsed": true
   },
   "outputs": [],
   "source": []
  }
 ],
 "metadata": {
  "kernelspec": {
   "display_name": "Python 3",
   "language": "python",
   "name": "python3"
  },
  "language_info": {
   "codemirror_mode": {
    "name": "ipython",
    "version": 3
   },
   "file_extension": ".py",
   "mimetype": "text/x-python",
   "name": "python",
   "nbconvert_exporter": "python",
   "pygments_lexer": "ipython3",
   "version": "3.6.1"
  }
 },
 "nbformat": 4,
 "nbformat_minor": 2
}
