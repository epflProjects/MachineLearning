{
 "cells": [
  {
   "cell_type": "markdown",
   "metadata": {},
   "source": [
    "# Import the libraries and features"
   ]
  },
  {
   "cell_type": "code",
   "execution_count": 6,
   "metadata": {},
   "outputs": [
    {
     "name": "stdout",
     "output_type": "stream",
     "text": [
      "(199991, 80)\n",
      "(199991,)\n"
     ]
    }
   ],
   "source": [
    "import numpy as np\n",
    "from sklearn.model_selection import train_test_split\n",
    "from sklearn import svm\n",
    "from sklearn.linear_model import LogisticRegression\n",
    "%load_ext autoreload\n",
    "%autoreload 2\n",
    "\n",
    "features = np.load('features.npy')\n",
    "labels = np.load('labels.npy')\n",
    "\n",
    "print(features.shape)\n",
    "print(labels.shape)\n"
   ]
  },
  {
   "cell_type": "code",
   "execution_count": null,
   "metadata": {},
   "outputs": [],
   "source": []
  },
  {
   "cell_type": "markdown",
   "metadata": {},
   "source": [
    "# Todo\n",
    "\n",
    "implement a linear classifier on our features"
   ]
  },
  {
   "cell_type": "code",
   "execution_count": null,
   "metadata": {},
   "outputs": [],
   "source": [
    "X_train, X_test, y_train, y_test = train_test_split(features, labels, test_size=0.5, random_state=0)\n",
    "X_train.shape, y_train.shape\n",
    "X_test.shape, y_test.shape\n",
    "\n",
    "#clf = svm.SVC(kernel='linear', C=1).fit(X_train, y_train)\n",
    "#print(\"SVM linear :\", clf.score(X_test, y_test))\n",
    "\n",
    "clf = svm.SVC(kernel='rbf', C=1).fit(X_train, y_train)\n",
    "print(\"SVM rbf :\", clf.score(X_test, y_test))\n",
    "\n",
    "C = 0.01\n",
    "\n",
    "clf = LogisticRegression(C=C, solver='lbfgs', multi_class='multinomial')\n",
    "clf = LogisticRegression(C=C, penalty='l2')\n",
    "clf.fit(X_train, y_train)\n",
    "print(\"Logistic : \", clf.score(X_test, y_test))\n",
    "\n",
    "from sklearn.neural_network import MLPClassifier\n",
    "\n",
    "clf = MLPClassifier(solver='lbfgs', alpha=1e-5, hidden_layer_sizes=(20, 5), random_state=1)\n",
    "clf.fit(X_train, y_train)\n",
    "print(\"Neural : \", clf.score(X_test, y_test))"
   ]
  },
  {
   "cell_type": "markdown",
   "metadata": {},
   "source": [
    " "
   ]
  },
  {
   "cell_type": "markdown",
   "metadata": {},
   "source": [
    "# Cross Validation\n"
   ]
  },
  {
   "cell_type": "code",
   "execution_count": 10,
   "metadata": {},
   "outputs": [
    {
     "name": "stdout",
     "output_type": "stream",
     "text": [
      "fold =  0\n",
      "TRAIN: [     0      1      2 ..., 199987 199989 199990] TEST: [     3      5     10 ..., 199985 199986 199988]\n",
      "Logistic :  0.605784231369\n",
      "fold =  1\n",
      "TRAIN: [     0      1      2 ..., 199988 199989 199990] TEST: [     4      8     13 ..., 199979 199980 199987]\n",
      "Logistic :  0.604824192968\n",
      "fold =  2\n",
      "TRAIN: [     1      3      4 ..., 199987 199988 199989] TEST: [     0      2      6 ..., 199974 199975 199990]\n",
      "Logistic :  0.610404416177\n",
      "fold =  3\n",
      "TRAIN: [     0      2      3 ..., 199987 199988 199990] TEST: [     1      7     12 ..., 199978 199982 199989]\n",
      "Logistic :  0.608916534992\n"
     ]
    }
   ],
   "source": [
    "from sklearn.model_selection import KFold\n",
    "from sklearn.neural_network import MLPClassifier\n",
    "\n",
    "\n",
    "\n",
    "\n",
    "kf = KFold(n_splits=4, shuffle=True)\n",
    "kf.get_n_splits(features)\n",
    "k = 0;\n",
    "C = 1.0\n",
    "for train_index, test_index in kf.split(features):\n",
    "    print(\"fold = \", k)\n",
    "    k+=1\n",
    "    print(\"TRAIN:\", train_index, \"TEST:\", test_index)\n",
    "    X_train, X_test = features[train_index], features[test_index]\n",
    "    y_train, y_test = labels[train_index], labels[test_index]\n",
    "    \n",
    "    clf = LogisticRegression(C=C, penalty='l2')\n",
    "    clf.fit(X_train, y_train)\n",
    "\n",
    "    print(\"Logistic : \", clf.score(X_test, y_test))\n",
    "\n",
    "\n",
    "\n",
    "\n"
   ]
  },
  {
   "cell_type": "code",
   "execution_count": null,
   "metadata": {},
   "outputs": [],
   "source": []
  },
  {
   "cell_type": "code",
   "execution_count": null,
   "metadata": {
    "collapsed": true
   },
   "outputs": [],
   "source": []
  }
 ],
 "metadata": {
  "kernelspec": {
   "display_name": "Python 3",
   "language": "python",
   "name": "python3"
  },
  "language_info": {
   "codemirror_mode": {
    "name": "ipython",
    "version": 3
   },
   "file_extension": ".py",
   "mimetype": "text/x-python",
   "name": "python",
   "nbconvert_exporter": "python",
   "pygments_lexer": "ipython3",
   "version": "3.6.1"
  }
 },
 "nbformat": 4,
 "nbformat_minor": 2
}
