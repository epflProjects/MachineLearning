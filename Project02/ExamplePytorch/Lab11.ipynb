{
 "cells": [
  {
   "cell_type": "code",
   "execution_count": 2,
   "metadata": {},
   "outputs": [],
   "source": [
    "# Useful starting lines\n",
    "%matplotlib inline\n",
    "import numpy as np\n",
    "import matplotlib.pyplot as plt\n",
    "import torch\n",
    "import torch.nn as nn\n",
    "from torch.autograd import Variable\n",
    "%load_ext autoreload\n",
    "%autoreload 2\n",
    "dtype = torch.FloatTensor"
   ]
  },
  {
   "cell_type": "code",
   "execution_count": 3,
   "metadata": {
    "collapsed": true
   },
   "outputs": [],
   "source": [
    "# Defining a toy dataset\n",
    "x_train = np.array([[3.3], [4.4], [5.5], [6.71], [6.93], [4.168], \n",
    "                    [9.779], [6.182], [7.59], [2.167], [7.042], \n",
    "                    [10.791], [5.313], [7.997], [3.1]], dtype=np.float32)\n",
    "\n",
    "y_train = np.array([[1.7], [2.76], [2.09], [3.19], [1.694], [1.573], \n",
    "                    [3.366], [2.596], [2.53], [1.221], [2.827], \n",
    "                        [3.465], [1.65], [2.904], [1.3]], dtype=np.float32)"
   ]
  },
  {
   "cell_type": "markdown",
   "metadata": {},
   "source": [
    "## Linear regression"
   ]
  },
  {
   "cell_type": "code",
   "execution_count": 152,
   "metadata": {},
   "outputs": [
    {
     "name": "stdout",
     "output_type": "stream",
     "text": [
      "Testing model: an input of [[ 0.]\n",
      " [ 1.]\n",
      " [ 2.]] gives a prediction:\n",
      " Variable containing:\n",
      " 0.0000\n",
      " 0.2119\n",
      " 0.4239\n",
      "[torch.FloatTensor of size 3x1]\n",
      "\n"
     ]
    }
   ],
   "source": [
    "class MyLinearRegression:\n",
    "    def __init__(self):\n",
    "        # Randomly initialize weights\n",
    "        self.w1 = Variable(torch.randn((1,1)).type(dtype), requires_grad=True)\n",
    "    \n",
    "    def forward(self, x):\n",
    "        h = x.mm(self.w1)\n",
    "        return h\n",
    "    \n",
    "    def parameters(self):\n",
    "        # TODO: this function should return a list of parameters of the model\n",
    "        return [self.w1]\n",
    "    \n",
    "    def __call__(self, x):\n",
    "        # Convenience function\n",
    "        return self.forward(x)\n",
    "    \n",
    "\n",
    "def mselossfunc(pred, y):\n",
    "    # TODO: implement the MSE loss function\n",
    "    loss = (pred - y).pow(2).sum()\n",
    "    return loss\n",
    "\n",
    "model = MyLinearRegression()\n",
    "numpy_inputs = np.asarray([[0.0], [1.0], [2.0]], dtype = np.float32)\n",
    "torch_inputs = Variable(torch.from_numpy(numpy_inputs))\n",
    "torch_outputs = model(torch_inputs)\n",
    "print(\"Testing model: an input of %s gives a prediction:\\n %s\" % (numpy_inputs, torch_outputs))"
   ]
  },
  {
   "cell_type": "code",
   "execution_count": 158,
   "metadata": {
    "collapsed": true
   },
   "outputs": [],
   "source": [
    "def train(features, labels, model, lossfunc, optimizer, num_epoch):\n",
    "\n",
    "    for epoch in range(num_epoch):\n",
    "        # TODO: Step 1 - create torch variables corresponding to features and labels\n",
    "        torchFeatures = Variable(torch.from_numpy(features), requires_grad=False)\n",
    "        torchLabel= Variable(torch.from_numpy(labels), requires_grad=False)\n",
    "\n",
    "        # TODO: Step 2 - compute model predictions and loss\n",
    "        prediction = model(torchFeatures);\n",
    "        loss = lossfunc(prediction, torchLabel);\n",
    "    \n",
    "        # TODO: Step 3 - do a backward pass and a gradient update step\n",
    "        \n",
    "        # Before the backward pass, use the optimizer object to zero all of the\n",
    "        # gradients for the variables it will update (which are the learnable weights\n",
    "        # of the model)\n",
    "        optimizer.zero_grad()\n",
    "\n",
    "        # Backward pass: compute gradient of the loss with respect to model\n",
    "        # parameters\n",
    "        loss.backward()\n",
    "        # Calling the step function on an Optimizer makes an update to its\n",
    "        # parameters\n",
    "        optimizer.step()\n",
    "        \n",
    "        if epoch % 10 == 0:\n",
    "            print ('Epoch [%d/%d], Loss: %.4f' \n",
    "                   %(epoch+1, num_epoch, loss.data[0]))\n",
    "        \n",
    "        \n",
    "def visualize(x_train, y_train, model):\n",
    "    # A convenience function for visualizing predictions given by the model\n",
    "\n",
    "    predicted = model(Variable(torch.from_numpy(x_train))).data.numpy()\n",
    "    order = np.argsort(x_train, axis = 0)\n",
    "    \n",
    "    plt.plot(x_train[order].flatten(), y_train[order].flatten(), 'ro', label='Original data')\n",
    "    plt.plot(x_train[order].flatten(), predicted[order].flatten(), label='Fitted line')\n",
    "    plt.legend()\n",
    "    plt.show()"
   ]
  },
  {
   "cell_type": "code",
   "execution_count": 159,
   "metadata": {},
   "outputs": [
    {
     "name": "stdout",
     "output_type": "stream",
     "text": [
      "Epoch [1/50], Loss: 180.8580\n",
      "Epoch [11/50], Loss: 2.5381\n",
      "Epoch [21/50], Loss: 2.5378\n",
      "Epoch [31/50], Loss: 2.5375\n",
      "Epoch [41/50], Loss: 2.5372\n"
     ]
    },
    {
     "data": {
      "image/png": "[encoded data removed]",
      "text/plain": [
       "<matplotlib.figure.Figure at 0x117fca2e8>"
      ]
     },
     "metadata": {},
     "output_type": "display_data"
    }
   ],
   "source": [
    "# Training and visualizing predictions made by linear regression model\n",
    "optimizer = torch.optim.SGD(model.parameters(), lr=1e-3)\n",
    "\n",
    "train(features = x_train,\n",
    "      labels = y_train,\n",
    "      model = model,\n",
    "      lossfunc = mselossfunc, \n",
    "      optimizer = optimizer,\n",
    "      num_epoch = 50)\n",
    "visualize(x_train, y_train, model)"
   ]
  },
  {
   "cell_type": "markdown",
   "metadata": {},
   "source": [
    "## Linear Regression (using nn package)"
   ]
  },
  {
   "cell_type": "code",
   "execution_count": 242,
   "metadata": {},
   "outputs": [
    {
     "name": "stdout",
     "output_type": "stream",
     "text": [
      "Epoch [1/100], Loss: 826.6658\n",
      "Epoch [11/100], Loss: 2.6249\n",
      "Epoch [21/100], Loss: 2.6181\n",
      "Epoch [31/100], Loss: 2.6119\n",
      "Epoch [41/100], Loss: 2.6061\n",
      "Epoch [51/100], Loss: 2.6007\n",
      "Epoch [61/100], Loss: 2.5957\n",
      "Epoch [71/100], Loss: 2.5911\n",
      "Epoch [81/100], Loss: 2.5869\n",
      "Epoch [91/100], Loss: 2.5829\n"
     ]
    },
    {
     "data": {
      "image/png": "[encoded data removed]",
      "text/plain": [
       "<matplotlib.figure.Figure at 0x117f5f828>"
      ]
     },
     "metadata": {},
     "output_type": "display_data"
    }
   ],
   "source": [
    "class NNLinearRegression(nn.Module):\n",
    "    def __init__(self):\n",
    "        super(NNLinearRegression, self).__init__()\n",
    "        # TODO: Define the parameters of the model (linear nn layer)\n",
    "        self.linear1 = torch.nn.Linear(1,1)\n",
    "    \n",
    "    def forward(self, x):\n",
    "        # TODO: implement forward computation\n",
    "        return self.linear1(x)\n",
    "    \n",
    "# Training and visualizing predictions made by linear regression model (nn package)\n",
    "# TODO: use loss function from nn package\n",
    "lossfunc = torch.nn.MSELoss(size_average=False)\n",
    "\n",
    "model = NNLinearRegression()\n",
    "\n",
    "optimizer = torch.optim.SGD(model.parameters(), lr=1e-3)\n",
    "\n",
    "train(features = x_train,\n",
    "      labels = y_train,\n",
    "      model = model,\n",
    "      lossfunc = lossfunc,\n",
    "      optimizer = optimizer,\n",
    "      num_epoch = 100)\n",
    "visualize(x_train, y_train, model)"
   ]
  },
  {
   "cell_type": "markdown",
   "metadata": {},
   "source": [
    "## MLP"
   ]
  },
  {
   "cell_type": "code",
   "execution_count": 298,
   "metadata": {},
   "outputs": [
    {
     "name": "stdout",
     "output_type": "stream",
     "text": [
      "Epoch [1/300], Loss: 122.7541\n",
      "Epoch [11/300], Loss: 15.0257\n",
      "Epoch [21/300], Loss: 12.0448\n",
      "Epoch [31/300], Loss: 10.1876\n",
      "Epoch [41/300], Loss: 8.2511\n",
      "Epoch [51/300], Loss: 8.3260\n",
      "Epoch [61/300], Loss: 7.9809\n",
      "Epoch [71/300], Loss: 7.8982\n",
      "Epoch [81/300], Loss: 7.7129\n",
      "Epoch [91/300], Loss: 7.2878\n",
      "Epoch [101/300], Loss: 5.8318\n",
      "Epoch [111/300], Loss: 4.1793\n",
      "Epoch [121/300], Loss: 3.3621\n",
      "Epoch [131/300], Loss: 2.9144\n",
      "Epoch [141/300], Loss: 2.7375\n",
      "Epoch [151/300], Loss: 2.6840\n",
      "Epoch [161/300], Loss: 2.6696\n",
      "Epoch [171/300], Loss: 2.6604\n",
      "Epoch [181/300], Loss: 2.6555\n",
      "Epoch [191/300], Loss: 2.6519\n",
      "Epoch [201/300], Loss: 2.6493\n",
      "Epoch [211/300], Loss: 2.6472\n",
      "Epoch [221/300], Loss: 2.6451\n",
      "Epoch [231/300], Loss: 2.6432\n",
      "Epoch [241/300], Loss: 2.6413\n",
      "Epoch [251/300], Loss: 2.6394\n",
      "Epoch [261/300], Loss: 2.6375\n",
      "Epoch [271/300], Loss: 2.6357\n",
      "Epoch [281/300], Loss: 2.6338\n",
      "Epoch [291/300], Loss: 2.6319\n"
     ]
    },
    {
     "data": {
      "image/png": "[encoded data removed]",
      "text/plain": [
       "<matplotlib.figure.Figure at 0x118b60a58>"
      ]
     },
     "metadata": {},
     "output_type": "display_data"
    }
   ],
   "source": [
    "class MLP(nn.Module):\n",
    "    def __init__(self, H):\n",
    "        super(MLP, self).__init__()\n",
    "        # TODO: Define parameters / layers of a multi-layered perceptron with one hidden layer\n",
    "        \n",
    "        self.linear1 = torch.nn.Linear(1, H)\n",
    "        self.linear2 = torch.nn.Linear(H,H) \n",
    "        self.linear3 = torch.nn.Linear(H, 1)\n",
    "    \n",
    "    \n",
    "    def forward(self, x):\n",
    "        #h_sig = torch.nn.functional.sigmoid(self.linear1(x))\n",
    "        h_relu = torch.nn.functional.sigmoid(self.linear1(x)) \n",
    "        y_pred = self.linear3(h_relu)\n",
    "        return y_pred\n",
    "        \n",
    "    \n",
    "# TODO: Play with learning rate, hidden size, and optimizer type for multi-layered perceptron\n",
    "hidden_size = 2\n",
    "learning_rate = 0.1\n",
    "\n",
    "\n",
    "model = MLP(H = hidden_size)\n",
    "\n",
    "lossfunc = torch.nn.MSELoss(size_average=False)\n",
    "optimizer = torch.optim.Adam(model.parameters(), lr=learning_rate)\n",
    "#optimizer = torch.optim.SGD(model.parameters(), lr=learning_rate)\n",
    "\n",
    "train(features = x_train,\n",
    "      labels = y_train,\n",
    "      model = model,\n",
    "      lossfunc = lossfunc,\n",
    "      optimizer = optimizer,\n",
    "      num_epoch = 300)\n",
    "visualize(x_train, y_train, model)"
   ]
  },
  {
   "cell_type": "code",
   "execution_count": null,
   "metadata": {
    "collapsed": true
   },
   "outputs": [],
   "source": []
  },
  {
   "cell_type": "code",
   "execution_count": null,
   "metadata": {
    "collapsed": true
   },
   "outputs": [],
   "source": []
  }
 ],
 "metadata": {
  "kernelspec": {
   "display_name": "Python 3",
   "language": "python",
   "name": "python3"
  },
  "language_info": {
   "codemirror_mode": {
    "name": "ipython",
    "version": 3
   },
   "file_extension": ".py",
   "mimetype": "text/x-python",
   "name": "python",
   "nbconvert_exporter": "python",
   "pygments_lexer": "ipython3",
   "version": "3.6.1"
  }
 },
 "nbformat": 4,
 "nbformat_minor": 2
}
