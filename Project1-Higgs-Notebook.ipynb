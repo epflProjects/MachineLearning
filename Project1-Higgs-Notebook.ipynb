{
 "cells": [
  {
   "cell_type": "markdown",
   "metadata": {},
   "source": [
    "# Load Data"
   ]
  },
  {
   "cell_type": "code",
   "execution_count": null,
   "metadata": {
    "collapsed": true
   },
   "outputs": [],
   "source": [
    "from proj1_helpers import *\n",
    "from implementations import *\n",
    "from cross_validation import *\n",
    "import numpy as np\n",
    "import pandas as pd\n",
    "\n",
    "%load_ext autoreload\n",
    "%autoreload 2\n",
    "\n",
    "oy, otx, oids = load_csv_data('Data/train.csv', False)\n",
    "otest_y, otest_tx, otest_ids= load_csv_data('Data/test.csv', False)\n",
    "\n",
    "#data = pd.read_csv('Data/train.csv', sep=\",\")\n"
   ]
  },
  {
   "cell_type": "code",
   "execution_count": null,
   "metadata": {
    "collapsed": true
   },
   "outputs": [],
   "source": [
    "#pd.plotting.scatter_matrix(data)"
   ]
  },
  {
   "cell_type": "code",
   "execution_count": 70,
   "metadata": {},
   "outputs": [],
   "source": [
    "def prepro(M,c):\n",
    "    return addFunckyThings(addColumns(M, c), M)"
   ]
  },
  {
   "cell_type": "code",
   "execution_count": 69,
   "metadata": {
    "scrolled": true
   },
   "outputs": [
    {
     "ename": "KeyboardInterrupt",
     "evalue": "",
     "output_type": "error",
     "traceback": [
      "\u001b[0;31m---------------------------------------------------------------------------\u001b[0m",
      "\u001b[0;31mKeyboardInterrupt\u001b[0m                         Traceback (most recent call last)",
      "\u001b[0;32m<ipython-input-69-7946ce5526aa>\u001b[0m in \u001b[0;36m<module>\u001b[0;34m()\u001b[0m\n\u001b[1;32m     48\u001b[0m \u001b[0;34m\u001b[0m\u001b[0m\n\u001b[1;32m     49\u001b[0m         \u001b[0mdeleted_tx\u001b[0m \u001b[0;34m=\u001b[0m \u001b[0mnp\u001b[0m\u001b[0;34m.\u001b[0m\u001b[0mdelete\u001b[0m\u001b[0;34m(\u001b[0m\u001b[0mtest_tx_clustered\u001b[0m\u001b[0;34m[\u001b[0m\u001b[0mi\u001b[0m\u001b[0;34m]\u001b[0m\u001b[0;34m,\u001b[0m \u001b[0mindices_to_delete\u001b[0m\u001b[0;34m,\u001b[0m \u001b[0;36m1\u001b[0m\u001b[0;34m)\u001b[0m\u001b[0;34m\u001b[0m\u001b[0m\n\u001b[0;32m---> 50\u001b[0;31m         \u001b[0mtest_tx_clustered\u001b[0m\u001b[0;34m[\u001b[0m\u001b[0mi\u001b[0m\u001b[0;34m]\u001b[0m \u001b[0;34m=\u001b[0m \u001b[0mprepro\u001b[0m\u001b[0;34m(\u001b[0m\u001b[0mdeleted_tx\u001b[0m\u001b[0;34m,\u001b[0m \u001b[0mnbColumns\u001b[0m\u001b[0;34m)\u001b[0m\u001b[0;34m\u001b[0m\u001b[0m\n\u001b[0m\u001b[1;32m     51\u001b[0m \u001b[0;34m\u001b[0m\u001b[0m\n\u001b[1;32m     52\u001b[0m \u001b[0;34m\u001b[0m\u001b[0m\n",
      "\u001b[0;32m<ipython-input-68-eb09b6e77bf9>\u001b[0m in \u001b[0;36mprepro\u001b[0;34m(M, c)\u001b[0m\n\u001b[1;32m      1\u001b[0m \u001b[0;32mdef\u001b[0m \u001b[0mprepro\u001b[0m\u001b[0;34m(\u001b[0m\u001b[0mM\u001b[0m\u001b[0;34m,\u001b[0m\u001b[0mc\u001b[0m\u001b[0;34m)\u001b[0m\u001b[0;34m:\u001b[0m\u001b[0;34m\u001b[0m\u001b[0m\n\u001b[0;32m----> 2\u001b[0;31m     \u001b[0;32mreturn\u001b[0m \u001b[0maddFunckyThings\u001b[0m\u001b[0;34m(\u001b[0m\u001b[0maddColumns\u001b[0m\u001b[0;34m(\u001b[0m\u001b[0mM\u001b[0m\u001b[0;34m,\u001b[0m \u001b[0mc\u001b[0m\u001b[0;34m)\u001b[0m\u001b[0;34m,\u001b[0m \u001b[0mM\u001b[0m\u001b[0;34m)\u001b[0m\u001b[0;34m\u001b[0m\u001b[0m\n\u001b[0m",
      "\u001b[0;32m/Users/bastiannanchen/Programmation/Machine Learning/MachineLearning/preprocessing.py\u001b[0m in \u001b[0;36maddFunckyThings\u001b[0;34m(M, tx)\u001b[0m\n\u001b[1;32m     27\u001b[0m     \u001b[0mn\u001b[0m \u001b[0;34m=\u001b[0m \u001b[0mlen\u001b[0m\u001b[0;34m(\u001b[0m\u001b[0mtx\u001b[0m\u001b[0;34m[\u001b[0m\u001b[0;36m0\u001b[0m\u001b[0;34m]\u001b[0m\u001b[0;34m)\u001b[0m\u001b[0;34m\u001b[0m\u001b[0m\n\u001b[1;32m     28\u001b[0m     \u001b[0;32mfor\u001b[0m \u001b[0mi\u001b[0m \u001b[0;32min\u001b[0m \u001b[0mrange\u001b[0m\u001b[0;34m(\u001b[0m\u001b[0mn\u001b[0m\u001b[0;34m)\u001b[0m\u001b[0;34m:\u001b[0m\u001b[0;34m\u001b[0m\u001b[0m\n\u001b[0;32m---> 29\u001b[0;31m         \u001b[0mret\u001b[0m \u001b[0;34m=\u001b[0m \u001b[0mnp\u001b[0m\u001b[0;34m.\u001b[0m\u001b[0mhstack\u001b[0m\u001b[0;34m(\u001b[0m\u001b[0;34m(\u001b[0m\u001b[0mret\u001b[0m\u001b[0;34m,\u001b[0m \u001b[0mnp\u001b[0m\u001b[0;34m.\u001b[0m\u001b[0mmultiply\u001b[0m\u001b[0;34m(\u001b[0m\u001b[0mtx\u001b[0m\u001b[0;34m[\u001b[0m\u001b[0;34m:\u001b[0m\u001b[0;34m,\u001b[0m \u001b[0mi\u001b[0m\u001b[0;34m]\u001b[0m\u001b[0;34m,\u001b[0m \u001b[0mtx\u001b[0m\u001b[0;34m.\u001b[0m\u001b[0mT\u001b[0m\u001b[0;34m)\u001b[0m\u001b[0;34m.\u001b[0m\u001b[0mT\u001b[0m\u001b[0;34m)\u001b[0m\u001b[0;34m)\u001b[0m\u001b[0;34m\u001b[0m\u001b[0m\n\u001b[0m\u001b[1;32m     30\u001b[0m     \u001b[0;32mreturn\u001b[0m \u001b[0mret\u001b[0m\u001b[0;34m\u001b[0m\u001b[0m\n",
      "\u001b[0;32m/Users/bastiannanchen/anaconda/lib/python3.6/site-packages/numpy/core/shape_base.py\u001b[0m in \u001b[0;36mhstack\u001b[0;34m(tup)\u001b[0m\n\u001b[1;32m    286\u001b[0m         \u001b[0;32mreturn\u001b[0m \u001b[0m_nx\u001b[0m\u001b[0;34m.\u001b[0m\u001b[0mconcatenate\u001b[0m\u001b[0;34m(\u001b[0m\u001b[0marrs\u001b[0m\u001b[0;34m,\u001b[0m \u001b[0;36m0\u001b[0m\u001b[0;34m)\u001b[0m\u001b[0;34m\u001b[0m\u001b[0m\n\u001b[1;32m    287\u001b[0m     \u001b[0;32melse\u001b[0m\u001b[0;34m:\u001b[0m\u001b[0;34m\u001b[0m\u001b[0m\n\u001b[0;32m--> 288\u001b[0;31m         \u001b[0;32mreturn\u001b[0m \u001b[0m_nx\u001b[0m\u001b[0;34m.\u001b[0m\u001b[0mconcatenate\u001b[0m\u001b[0;34m(\u001b[0m\u001b[0marrs\u001b[0m\u001b[0;34m,\u001b[0m \u001b[0;36m1\u001b[0m\u001b[0;34m)\u001b[0m\u001b[0;34m\u001b[0m\u001b[0m\n\u001b[0m\u001b[1;32m    289\u001b[0m \u001b[0;34m\u001b[0m\u001b[0m\n\u001b[1;32m    290\u001b[0m \u001b[0;32mdef\u001b[0m \u001b[0mstack\u001b[0m\u001b[0;34m(\u001b[0m\u001b[0marrays\u001b[0m\u001b[0;34m,\u001b[0m \u001b[0maxis\u001b[0m\u001b[0;34m=\u001b[0m\u001b[0;36m0\u001b[0m\u001b[0;34m)\u001b[0m\u001b[0;34m:\u001b[0m\u001b[0;34m\u001b[0m\u001b[0m\n",
      "\u001b[0;31mKeyboardInterrupt\u001b[0m: "
     ]
    }
   ],
   "source": [
    "from preprocessing import *\n",
    "\n",
    "# Finding the Best columns\n",
    "best_number_of_colums = np.zeros(4)\n",
    "best_per_of_columns = np.zeros(4)\n",
    "\n",
    "for nbColumns in range(2,13):\n",
    "#for nbColumns in [2, 5, 10]:\n",
    "    y, tx, ids = oy, otx, oids\n",
    "    test_y, test_tx,test_ids = otest_y, otest_tx, otest_ids\n",
    "    # Preprocessing\n",
    "\n",
    "\n",
    "    PRI_jet_num_colomn_train = tx[:, 22]\n",
    "    PRI_jet_num_colomn_test = test_tx[:, 22]\n",
    "\n",
    "\n",
    "    y_clustered = list()\n",
    "    tx_clustered = list()\n",
    "    ids_clustered = list()\n",
    "    test_y_clustered = list()\n",
    "    test_tx_clustered = list()\n",
    "    test_ids_clustered = list()\n",
    "   \n",
    "\n",
    "    for i in range(4):\n",
    "        indices = [ind for ind,a in enumerate(PRI_jet_num_colomn_train) if a == i]\n",
    "        \n",
    "\n",
    "        y_clustered.append(y[indices])\n",
    "        tx_clustered.append(tx[indices])\n",
    "        ids_clustered.append(ids[indices])\n",
    "\n",
    "        test_indices = [ind for ind,a in enumerate(PRI_jet_num_colomn_test) if a == i]\n",
    "        \n",
    "        test_y_clustered.append(test_y[test_indices])\n",
    "        test_tx_clustered.append(test_tx[test_indices])\n",
    "        test_ids_clustered.append(test_ids[test_indices])\n",
    "\n",
    "        #delete colinear columns and preprocess the data\n",
    "        indices_to_delete = list()\n",
    "        for col in range(tx_clustered[i].shape[1]):\n",
    "            if min(tx_clustered[i][:, col]) == max(tx_clustered[i][:, col]):\n",
    "                indices_to_delete.append(col)\n",
    "\n",
    "        deleted_tx = np.delete(tx_clustered[i], indices_to_delete, 1)\n",
    "        tx_clustered[i] = prepro(deleted_tx, nbColumns)\n",
    "        \n",
    "        deleted_tx = np.delete(test_tx_clustered[i], indices_to_delete, 1)\n",
    "        test_tx_clustered[i] = prepro(deleted_tx, nbColumns)\n",
    "\n",
    "\n",
    "    # Cross-Validation & Weight computation\n",
    "\n",
    "    from cross_validation import *\n",
    "    w = list()\n",
    "    result = list()\n",
    "    \n",
    "\n",
    "    loss = 0\n",
    "    perGood = 0\n",
    "    maxW = 0\n",
    "    for i in range(4):\n",
    "        wi,loss_te, perGoodI = cross_validation_run(tx_clustered[i], y_clustered[i])\n",
    "        if(perGoodI > best_per_of_columns[i]):\n",
    "            best_per_of_columns[i] = perGoodI\n",
    "            best_number_of_colums[i] = nbColumns\n",
    "        \n",
    "        w.append(wi)\n",
    "        maxW += np.max(np.abs(wi))/4\n",
    "        loss += loss_te/4\n",
    "        perGood += perGoodI/4\n",
    "        test_y_clustered[i] = predict_labels(w[i], test_tx_clustered[i])\n",
    "        \n",
    "    print(\"Number of columns : \", nbColumns, \" loss : \", loss, \"Max of w : \", maxW,  \" Percentage of true Y : \", perGood)\n",
    "print(best_number_of_colums) "
   ]
  },
  {
   "cell_type": "code",
   "execution_count": 51,
   "metadata": {},
   "outputs": [
    {
     "name": "stdout",
     "output_type": "stream",
     "text": [
      "[ 0.84353231  0.80705148  0.83422662  0.83243097]\n",
      "[ 10.  11.  12.  12.]\n"
     ]
    }
   ],
   "source": [
    "print(best_per_of_columns)\n",
    "print(best_number_of_colums) "
   ]
  },
  {
   "cell_type": "markdown",
   "metadata": {},
   "source": [
    "# Using least square on [cst, tx, tx^2, ...] \n",
    "31 - 0.695085425438 \n",
    "\n",
    "61 - 0.776\n",
    "\n",
    "91 - 0.787\n",
    "\n",
    "121 - 0.796\n",
    "\n",
    "151 - 0.805\n",
    "\n",
    "181 - 0.807\n",
    "\n",
    "211 - 0.809\n",
    "\n",
    "241 - 0.816\n",
    "\n",
    "271 - 0.822"
   ]
  },
  {
   "cell_type": "markdown",
   "metadata": {},
   "source": [
    "# Computing with good columns"
   ]
  },
  {
   "cell_type": "code",
   "execution_count": null,
   "metadata": {},
   "outputs": [
    {
     "ename": "KeyboardInterrupt",
     "evalue": "",
     "output_type": "error",
     "traceback": [
      "\u001b[0;31m---------------------------------------------------------------------------\u001b[0m",
      "\u001b[0;31mKeyboardInterrupt\u001b[0m                         Traceback (most recent call last)",
      "\u001b[0;32m<ipython-input-71-276f68d29d18>\u001b[0m in \u001b[0;36m<module>\u001b[0;34m()\u001b[0m\n\u001b[1;32m     40\u001b[0m \u001b[0;34m\u001b[0m\u001b[0m\n\u001b[1;32m     41\u001b[0m     \u001b[0mdeleted_tx\u001b[0m \u001b[0;34m=\u001b[0m \u001b[0mnp\u001b[0m\u001b[0;34m.\u001b[0m\u001b[0mdelete\u001b[0m\u001b[0;34m(\u001b[0m\u001b[0mtest_tx_clustered\u001b[0m\u001b[0;34m[\u001b[0m\u001b[0mi\u001b[0m\u001b[0;34m]\u001b[0m\u001b[0;34m,\u001b[0m \u001b[0mindices_to_delete\u001b[0m\u001b[0;34m,\u001b[0m \u001b[0;36m1\u001b[0m\u001b[0;34m)\u001b[0m\u001b[0;34m\u001b[0m\u001b[0m\n\u001b[0;32m---> 42\u001b[0;31m     \u001b[0mtest_tx_clustered\u001b[0m\u001b[0;34m[\u001b[0m\u001b[0mi\u001b[0m\u001b[0;34m]\u001b[0m \u001b[0;34m=\u001b[0m \u001b[0mprepro\u001b[0m\u001b[0;34m(\u001b[0m\u001b[0mdeleted_tx\u001b[0m\u001b[0;34m,\u001b[0m \u001b[0mint\u001b[0m\u001b[0;34m(\u001b[0m\u001b[0mbest_number_of_colums\u001b[0m\u001b[0;34m[\u001b[0m\u001b[0mi\u001b[0m\u001b[0;34m]\u001b[0m\u001b[0;34m)\u001b[0m\u001b[0;34m)\u001b[0m\u001b[0;31m#addColumns(deleted_tx, int(best_number_of_colums[i]))\u001b[0m\u001b[0;34m\u001b[0m\u001b[0m\n\u001b[0m\u001b[1;32m     43\u001b[0m \u001b[0;34m\u001b[0m\u001b[0m\n\u001b[1;32m     44\u001b[0m \u001b[0;34m\u001b[0m\u001b[0m\n",
      "\u001b[0;32m<ipython-input-70-eb09b6e77bf9>\u001b[0m in \u001b[0;36mprepro\u001b[0;34m(M, c)\u001b[0m\n\u001b[1;32m      1\u001b[0m \u001b[0;32mdef\u001b[0m \u001b[0mprepro\u001b[0m\u001b[0;34m(\u001b[0m\u001b[0mM\u001b[0m\u001b[0;34m,\u001b[0m\u001b[0mc\u001b[0m\u001b[0;34m)\u001b[0m\u001b[0;34m:\u001b[0m\u001b[0;34m\u001b[0m\u001b[0m\n\u001b[0;32m----> 2\u001b[0;31m     \u001b[0;32mreturn\u001b[0m \u001b[0maddFunckyThings\u001b[0m\u001b[0;34m(\u001b[0m\u001b[0maddColumns\u001b[0m\u001b[0;34m(\u001b[0m\u001b[0mM\u001b[0m\u001b[0;34m,\u001b[0m \u001b[0mc\u001b[0m\u001b[0;34m)\u001b[0m\u001b[0;34m,\u001b[0m \u001b[0mM\u001b[0m\u001b[0;34m)\u001b[0m\u001b[0;34m\u001b[0m\u001b[0m\n\u001b[0m",
      "\u001b[0;32m/Users/bastiannanchen/Programmation/Machine Learning/MachineLearning/preprocessing.py\u001b[0m in \u001b[0;36maddFunckyThings\u001b[0;34m(M, tx)\u001b[0m\n\u001b[1;32m     27\u001b[0m     \u001b[0mn\u001b[0m \u001b[0;34m=\u001b[0m \u001b[0mlen\u001b[0m\u001b[0;34m(\u001b[0m\u001b[0mtx\u001b[0m\u001b[0;34m[\u001b[0m\u001b[0;36m0\u001b[0m\u001b[0;34m]\u001b[0m\u001b[0;34m)\u001b[0m\u001b[0;34m\u001b[0m\u001b[0m\n\u001b[1;32m     28\u001b[0m     \u001b[0;32mfor\u001b[0m \u001b[0mi\u001b[0m \u001b[0;32min\u001b[0m \u001b[0mrange\u001b[0m\u001b[0;34m(\u001b[0m\u001b[0mn\u001b[0m\u001b[0;34m)\u001b[0m\u001b[0;34m:\u001b[0m\u001b[0;34m\u001b[0m\u001b[0m\n\u001b[0;32m---> 29\u001b[0;31m         \u001b[0mret\u001b[0m \u001b[0;34m=\u001b[0m \u001b[0mnp\u001b[0m\u001b[0;34m.\u001b[0m\u001b[0mhstack\u001b[0m\u001b[0;34m(\u001b[0m\u001b[0;34m(\u001b[0m\u001b[0mret\u001b[0m\u001b[0;34m,\u001b[0m \u001b[0mnp\u001b[0m\u001b[0;34m.\u001b[0m\u001b[0mmultiply\u001b[0m\u001b[0;34m(\u001b[0m\u001b[0mtx\u001b[0m\u001b[0;34m[\u001b[0m\u001b[0;34m:\u001b[0m\u001b[0;34m,\u001b[0m \u001b[0mi\u001b[0m\u001b[0;34m]\u001b[0m\u001b[0;34m,\u001b[0m \u001b[0mtx\u001b[0m\u001b[0;34m.\u001b[0m\u001b[0mT\u001b[0m\u001b[0;34m)\u001b[0m\u001b[0;34m.\u001b[0m\u001b[0mT\u001b[0m\u001b[0;34m)\u001b[0m\u001b[0;34m)\u001b[0m\u001b[0;34m\u001b[0m\u001b[0m\n\u001b[0m\u001b[1;32m     30\u001b[0m     \u001b[0;32mreturn\u001b[0m \u001b[0mret\u001b[0m\u001b[0;34m\u001b[0m\u001b[0m\n",
      "\u001b[0;32m/Users/bastiannanchen/anaconda/lib/python3.6/site-packages/numpy/core/shape_base.py\u001b[0m in \u001b[0;36mhstack\u001b[0;34m(tup)\u001b[0m\n\u001b[1;32m    286\u001b[0m         \u001b[0;32mreturn\u001b[0m \u001b[0m_nx\u001b[0m\u001b[0;34m.\u001b[0m\u001b[0mconcatenate\u001b[0m\u001b[0;34m(\u001b[0m\u001b[0marrs\u001b[0m\u001b[0;34m,\u001b[0m \u001b[0;36m0\u001b[0m\u001b[0;34m)\u001b[0m\u001b[0;34m\u001b[0m\u001b[0m\n\u001b[1;32m    287\u001b[0m     \u001b[0;32melse\u001b[0m\u001b[0;34m:\u001b[0m\u001b[0;34m\u001b[0m\u001b[0m\n\u001b[0;32m--> 288\u001b[0;31m         \u001b[0;32mreturn\u001b[0m \u001b[0m_nx\u001b[0m\u001b[0;34m.\u001b[0m\u001b[0mconcatenate\u001b[0m\u001b[0;34m(\u001b[0m\u001b[0marrs\u001b[0m\u001b[0;34m,\u001b[0m \u001b[0;36m1\u001b[0m\u001b[0;34m)\u001b[0m\u001b[0;34m\u001b[0m\u001b[0m\n\u001b[0m\u001b[1;32m    289\u001b[0m \u001b[0;34m\u001b[0m\u001b[0m\n\u001b[1;32m    290\u001b[0m \u001b[0;32mdef\u001b[0m \u001b[0mstack\u001b[0m\u001b[0;34m(\u001b[0m\u001b[0marrays\u001b[0m\u001b[0;34m,\u001b[0m \u001b[0maxis\u001b[0m\u001b[0;34m=\u001b[0m\u001b[0;36m0\u001b[0m\u001b[0;34m)\u001b[0m\u001b[0;34m:\u001b[0m\u001b[0;34m\u001b[0m\u001b[0m\n",
      "\u001b[0;31mKeyboardInterrupt\u001b[0m: "
     ]
    }
   ],
   "source": [
    "y, tx, ids = oy, otx, oids\n",
    "test_y, test_tx,test_ids = otest_y, otest_tx, otest_ids\n",
    "# Preprocessing\n",
    "\n",
    "\n",
    "PRI_jet_num_colomn_train = tx[:, 22]\n",
    "PRI_jet_num_colomn_test = test_tx[:, 22]\n",
    "\n",
    "\n",
    "y_clustered = list()\n",
    "tx_clustered = list()\n",
    "ids_clustered = list()\n",
    "test_y_clustered = list()\n",
    "test_tx_clustered = list()\n",
    "test_ids_clustered = list()\n",
    "\n",
    "\n",
    "for i in range(4):\n",
    "    indices = [ind for ind,a in enumerate(PRI_jet_num_colomn_train) if a == i]\n",
    " \n",
    "\n",
    "    y_clustered.append(y[indices])\n",
    "    tx_clustered.append(tx[indices])\n",
    "    ids_clustered.append(ids[indices])\n",
    "\n",
    "    test_indices = [ind for ind,a in enumerate(PRI_jet_num_colomn_test) if a == i]\n",
    "\n",
    "    test_y_clustered.append(test_y[test_indices])\n",
    "    test_tx_clustered.append(test_tx[test_indices])\n",
    "    test_ids_clustered.append(test_ids[test_indices])\n",
    "\n",
    "    #delete colinear columns and preprocess the data\n",
    "    indices_to_delete = list()\n",
    "    for col in range(tx_clustered[i].shape[1]):\n",
    "        if min(tx_clustered[i][:, col]) == max(tx_clustered[i][:, col]):\n",
    "            indices_to_delete.append(col)\n",
    "\n",
    "    deleted_tx = np.delete(tx_clustered[i], indices_to_delete, 1)\n",
    "    tx_clustered[i] = prepro(deleted_tx, int(best_number_of_colums[i]))#addColumns(deleted_tx, int(best_number_of_colums[i]))\n",
    "\n",
    "    deleted_tx = np.delete(test_tx_clustered[i], indices_to_delete, 1)\n",
    "    test_tx_clustered[i] = prepro(deleted_tx, int(best_number_of_colums[i]))#addColumns(deleted_tx, int(best_number_of_colums[i]))\n",
    "\n",
    "\n",
    "# Cross-Validation & Weight computation\n",
    "\n",
    "from cross_validation import *\n",
    "w = list()\n",
    "result = list()\n",
    "\n",
    "\n",
    "loss = 0\n",
    "perGood = 0\n",
    "maxW = 0\n",
    "for i in range(4):\n",
    "    wi,loss_te, perGoodI = cross_validation_run(tx_clustered[i], y_clustered[i])\n",
    "    if(perGoodI > best_per_of_columns[i]):\n",
    "        best_per_of_columns[i] = perGoodI\n",
    "        best_number_of_colums[i] = nbColumns\n",
    "\n",
    "    w.append(wi)\n",
    "    maxW += np.max(np.abs(wi))/4\n",
    "    loss += loss_te/4\n",
    "    perGood += perGoodI/4\n",
    "    test_y_clustered[i] = predict_labels(w[i], test_tx_clustered[i])\n",
    "\n",
    "print(\" loss : \", loss, \"Max of w : \", maxW,  \" Percentage of true Y : \", perGood)"
   ]
  },
  {
   "cell_type": "markdown",
   "metadata": {},
   "source": [
    "old best: 0.826606619791\n",
    "\n",
    "new best: 0.827178252354"
   ]
  },
  {
   "cell_type": "markdown",
   "metadata": {},
   "source": [
    "# Analysing why it isn't working"
   ]
  },
  {
   "cell_type": "code",
   "execution_count": null,
   "metadata": {},
   "outputs": [],
   "source": [
    "\n",
    "for i in range(4):\n",
    "    realPred = np.dot(tx_clustered[i], w[i])\n",
    "    #print(np.max(realPred))\n",
    "    #df = pd.DataFrame(realPred)\n",
    "    #df.hist(bins=300)\n",
    "    y_pred = predict_labels(w[i],tx_clustered[i])\n",
    "    \n",
    "    false_index = [ind for ind,a in enumerate(y_clustered[i]) if y_pred[ind] != a]\n",
    "    \n",
    "    print(np.mean(realPred[false_index]))\n",
    "    print(\"Per : \", percentageGood(y_clustered[i],tx_clustered[i],w[i]), \"Len : \", len(y_clustered[i]) ) \n",
    "    \n",
    "    print(len(w[i]))\n"
   ]
  },
  {
   "cell_type": "markdown",
   "metadata": {},
   "source": [
    "# Post Processing"
   ]
  },
  {
   "cell_type": "code",
   "execution_count": 57,
   "metadata": {
    "collapsed": true,
    "scrolled": true
   },
   "outputs": [],
   "source": [
    "test_ids = [item for sublist in test_ids_clustered for item in sublist]\n",
    "y_pred = [item for sublist in test_y_clustered for item in sublist]\n",
    "\n",
    "test_ids, y_pred = zip(*sorted(zip(test_ids, y_pred)))"
   ]
  },
  {
   "cell_type": "markdown",
   "metadata": {},
   "source": [
    "# Output Data"
   ]
  },
  {
   "cell_type": "code",
   "execution_count": 58,
   "metadata": {
    "collapsed": true
   },
   "outputs": [],
   "source": [
    "name = 'magic-submission_two.csv'\n",
    "create_csv_submission(test_ids, y_pred, name)"
   ]
  },
  {
   "cell_type": "code",
   "execution_count": 56,
   "metadata": {},
   "outputs": [
    {
     "data": {
      "text/plain": [
       "array([ 0.,  0.,  0.,  0.])"
      ]
     },
     "execution_count": 56,
     "metadata": {},
     "output_type": "execute_result"
    }
   ],
   "source": [
    "np.zeros(4)"
   ]
  },
  {
   "cell_type": "code",
   "execution_count": null,
   "metadata": {
    "collapsed": true
   },
   "outputs": [],
   "source": []
  }
 ],
 "metadata": {
  "anaconda-cloud": {},
  "kernelspec": {
   "display_name": "Python 3",
   "language": "python",
   "name": "python3"
  }
 },
 "nbformat": 4,
 "nbformat_minor": 2
}
