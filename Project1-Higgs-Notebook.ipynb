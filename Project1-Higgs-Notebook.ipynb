{
 "cells": [
  {
   "cell_type": "markdown",
   "metadata": {},
   "source": [
    "# Load Data"
   ]
  },
  {
   "cell_type": "code",
   "execution_count": 2,
   "metadata": {},
   "outputs": [],
   "source": [
    "from proj1_helpers import *\n",
    "from implementations import *\n",
    "from cross_validation import *\n",
    "import numpy as np\n",
    "#import pandas as pd\n",
    "\n",
    "%load_ext autoreload\n",
    "%autoreload 2\n",
    "\n",
    "oy, otx, oids = load_csv_data('Data/train.csv', False)\n",
    "otest_y, otest_tx, otest_ids= load_csv_data('Data/test.csv', False)\n",
    "\n",
    "#data = pd.read_csv('Data/train.csv', sep=\",\")\n"
   ]
  },
  {
   "cell_type": "code",
   "execution_count": 3,
   "metadata": {},
   "outputs": [],
   "source": [
    "#pd.plotting.scatter_matrix(data)"
   ]
  },
  {
   "cell_type": "code",
   "execution_count": 14,
   "metadata": {},
   "outputs": [],
   "source": [
    "def prepro(M,c):\n",
    "    return addFunckyThings(addColumns(M, c), M)"
   ]
  },
  {
   "cell_type": "code",
   "execution_count": 15,
   "metadata": {
    "scrolled": true
   },
   "outputs": [
    {
     "name": "stdout",
     "output_type": "stream",
     "text": [
      "best lambda:  6.21016941892e-07 best perc:  0.84037953399\n",
      "best lambda:  1.26896100317e-06 best perc:  0.841620626151\n",
      "best lambda:  2.21221629107e-05 best perc:  0.846825206181\n",
      "best lambda:  6.21016941892e-07 best perc:  0.851629433902\n"
     ]
    },
    {
     "ename": "LinAlgError",
     "evalue": "Singular matrix",
     "output_type": "error",
     "traceback": [
      "\u001b[0;31m---------------------------------------------------------------------------\u001b[0m",
      "\u001b[0;31mLinAlgError\u001b[0m                               Traceback (most recent call last)",
      "\u001b[0;32m<ipython-input-15-986311130763>\u001b[0m in \u001b[0;36m<module>\u001b[0;34m()\u001b[0m\n\u001b[1;32m     62\u001b[0m     \u001b[0mmaxW\u001b[0m \u001b[0;34m=\u001b[0m \u001b[0;36m0\u001b[0m\u001b[0;34m\u001b[0m\u001b[0m\n\u001b[1;32m     63\u001b[0m     \u001b[0;32mfor\u001b[0m \u001b[0mi\u001b[0m \u001b[0;32min\u001b[0m \u001b[0mrange\u001b[0m\u001b[0;34m(\u001b[0m\u001b[0;36m4\u001b[0m\u001b[0;34m)\u001b[0m\u001b[0;34m:\u001b[0m\u001b[0;34m\u001b[0m\u001b[0m\n\u001b[0;32m---> 64\u001b[0;31m         \u001b[0mwi\u001b[0m\u001b[0;34m,\u001b[0m\u001b[0mloss_te\u001b[0m\u001b[0;34m,\u001b[0m \u001b[0mperGoodI\u001b[0m \u001b[0;34m=\u001b[0m \u001b[0mcross_validation_run\u001b[0m\u001b[0;34m(\u001b[0m\u001b[0mtx_clustered\u001b[0m\u001b[0;34m[\u001b[0m\u001b[0mi\u001b[0m\u001b[0;34m]\u001b[0m\u001b[0;34m,\u001b[0m \u001b[0my_clustered\u001b[0m\u001b[0;34m[\u001b[0m\u001b[0mi\u001b[0m\u001b[0;34m]\u001b[0m\u001b[0;34m)\u001b[0m\u001b[0;34m\u001b[0m\u001b[0m\n\u001b[0m\u001b[1;32m     65\u001b[0m         \u001b[0;32mif\u001b[0m\u001b[0;34m(\u001b[0m\u001b[0mperGoodI\u001b[0m \u001b[0;34m>\u001b[0m \u001b[0mbest_per_of_columns\u001b[0m\u001b[0;34m[\u001b[0m\u001b[0mi\u001b[0m\u001b[0;34m]\u001b[0m\u001b[0;34m)\u001b[0m\u001b[0;34m:\u001b[0m\u001b[0;34m\u001b[0m\u001b[0m\n\u001b[1;32m     66\u001b[0m             \u001b[0mbest_per_of_columns\u001b[0m\u001b[0;34m[\u001b[0m\u001b[0mi\u001b[0m\u001b[0;34m]\u001b[0m \u001b[0;34m=\u001b[0m \u001b[0mperGoodI\u001b[0m\u001b[0;34m\u001b[0m\u001b[0m\n",
      "\u001b[0;32m~/myfiles/MachineLearning/cross_validation.py\u001b[0m in \u001b[0;36mcross_validation_run\u001b[0;34m(tx, y)\u001b[0m\n\u001b[1;32m     26\u001b[0m     \u001b[0mgoodPer\u001b[0m \u001b[0;34m=\u001b[0m \u001b[0;34m[\u001b[0m\u001b[0;34m]\u001b[0m\u001b[0;34m\u001b[0m\u001b[0m\n\u001b[1;32m     27\u001b[0m     \u001b[0;32mfor\u001b[0m \u001b[0mk\u001b[0m \u001b[0;32min\u001b[0m \u001b[0mrange\u001b[0m\u001b[0;34m(\u001b[0m\u001b[0;36m0\u001b[0m\u001b[0;34m,\u001b[0m \u001b[0mk_fold\u001b[0m\u001b[0;34m)\u001b[0m\u001b[0;34m:\u001b[0m\u001b[0;34m\u001b[0m\u001b[0m\n\u001b[0;32m---> 28\u001b[0;31m         \u001b[0mloss_te\u001b[0m\u001b[0;34m,\u001b[0m \u001b[0mw_\u001b[0m\u001b[0;34m,\u001b[0m \u001b[0mgoodPerI\u001b[0m \u001b[0;34m=\u001b[0m \u001b[0mcross_validation\u001b[0m\u001b[0;34m(\u001b[0m\u001b[0my\u001b[0m\u001b[0;34m,\u001b[0m \u001b[0mtx\u001b[0m\u001b[0;34m,\u001b[0m \u001b[0mk_indices\u001b[0m\u001b[0;34m,\u001b[0m \u001b[0mk\u001b[0m\u001b[0;34m)\u001b[0m\u001b[0;34m\u001b[0m\u001b[0m\n\u001b[0m\u001b[1;32m     29\u001b[0m \u001b[0;34m\u001b[0m\u001b[0m\n\u001b[1;32m     30\u001b[0m         \u001b[0mrmse_test\u001b[0m\u001b[0;34m.\u001b[0m\u001b[0mappend\u001b[0m\u001b[0;34m(\u001b[0m\u001b[0mloss_te\u001b[0m\u001b[0;34m)\u001b[0m\u001b[0;34m\u001b[0m\u001b[0m\n",
      "\u001b[0;32m~/myfiles/MachineLearning/cross_validation.py\u001b[0m in \u001b[0;36mcross_validation\u001b[0;34m(y, x, k_indices, k)\u001b[0m\n\u001b[1;32m     72\u001b[0m \u001b[0;34m\u001b[0m\u001b[0m\n\u001b[1;32m     73\u001b[0m     \u001b[0;32mfor\u001b[0m \u001b[0mlambd\u001b[0m \u001b[0;32min\u001b[0m \u001b[0mlambda_\u001b[0m\u001b[0;34m:\u001b[0m\u001b[0;34m\u001b[0m\u001b[0m\n\u001b[0;32m---> 74\u001b[0;31m         \u001b[0mw\u001b[0m \u001b[0;34m=\u001b[0m \u001b[0mimp\u001b[0m\u001b[0;34m.\u001b[0m\u001b[0mridge_regression\u001b[0m\u001b[0;34m(\u001b[0m\u001b[0my\u001b[0m\u001b[0;34m[\u001b[0m\u001b[0mtrain_ind\u001b[0m\u001b[0;34m]\u001b[0m\u001b[0;34m,\u001b[0m \u001b[0mx\u001b[0m\u001b[0;34m[\u001b[0m\u001b[0mtrain_ind\u001b[0m\u001b[0;34m]\u001b[0m\u001b[0;34m,\u001b[0m \u001b[0mlambd\u001b[0m\u001b[0;34m)\u001b[0m\u001b[0;34m\u001b[0m\u001b[0m\n\u001b[0m\u001b[1;32m     75\u001b[0m         \u001b[0mgoodPer\u001b[0m \u001b[0;34m=\u001b[0m \u001b[0mpercentageGood\u001b[0m\u001b[0;34m(\u001b[0m\u001b[0my\u001b[0m\u001b[0;34m[\u001b[0m\u001b[0mk_indices\u001b[0m\u001b[0;34m[\u001b[0m\u001b[0mk\u001b[0m\u001b[0;34m]\u001b[0m\u001b[0;34m]\u001b[0m\u001b[0;34m,\u001b[0m \u001b[0mx\u001b[0m\u001b[0;34m[\u001b[0m\u001b[0mk_indices\u001b[0m\u001b[0;34m[\u001b[0m\u001b[0mk\u001b[0m\u001b[0;34m]\u001b[0m\u001b[0;34m]\u001b[0m\u001b[0;34m,\u001b[0m \u001b[0mw\u001b[0m\u001b[0;34m)\u001b[0m\u001b[0;34m\u001b[0m\u001b[0m\n\u001b[1;32m     76\u001b[0m         \u001b[0;31m#print(\"Percentage: \", goodPer, \"% lambda: \", lambd)\u001b[0m\u001b[0;34m\u001b[0m\u001b[0;34m\u001b[0m\u001b[0m\n",
      "\u001b[0;32m~/myfiles/MachineLearning/implementations.py\u001b[0m in \u001b[0;36mridge_regression\u001b[0;34m(y, tx, lambda_)\u001b[0m\n\u001b[1;32m     64\u001b[0m     \u001b[0mfirst_part\u001b[0m \u001b[0;34m=\u001b[0m \u001b[0mtx\u001b[0m\u001b[0;34m.\u001b[0m\u001b[0mT\u001b[0m\u001b[0;34m.\u001b[0m\u001b[0mdot\u001b[0m\u001b[0;34m(\u001b[0m\u001b[0mtx\u001b[0m\u001b[0;34m)\u001b[0m \u001b[0;34m+\u001b[0m \u001b[0;34m(\u001b[0m\u001b[0;36m2\u001b[0m \u001b[0;34m*\u001b[0m \u001b[0mtx\u001b[0m\u001b[0;34m.\u001b[0m\u001b[0mshape\u001b[0m\u001b[0;34m[\u001b[0m\u001b[0;36m0\u001b[0m\u001b[0;34m]\u001b[0m \u001b[0;34m*\u001b[0m \u001b[0mlambda_\u001b[0m\u001b[0;34m)\u001b[0m \u001b[0;34m*\u001b[0m \u001b[0mnp\u001b[0m\u001b[0;34m.\u001b[0m\u001b[0midentity\u001b[0m\u001b[0;34m(\u001b[0m\u001b[0mtx\u001b[0m\u001b[0;34m.\u001b[0m\u001b[0mshape\u001b[0m\u001b[0;34m[\u001b[0m\u001b[0;36m1\u001b[0m\u001b[0;34m]\u001b[0m\u001b[0;34m)\u001b[0m\u001b[0;34m\u001b[0m\u001b[0m\n\u001b[1;32m     65\u001b[0m     \u001b[0msec_part\u001b[0m \u001b[0;34m=\u001b[0m \u001b[0mtx\u001b[0m\u001b[0;34m.\u001b[0m\u001b[0mT\u001b[0m\u001b[0;34m.\u001b[0m\u001b[0mdot\u001b[0m\u001b[0;34m(\u001b[0m\u001b[0my\u001b[0m\u001b[0;34m)\u001b[0m\u001b[0;34m\u001b[0m\u001b[0m\n\u001b[0;32m---> 66\u001b[0;31m     \u001b[0;32mreturn\u001b[0m \u001b[0mnp\u001b[0m\u001b[0;34m.\u001b[0m\u001b[0mlinalg\u001b[0m\u001b[0;34m.\u001b[0m\u001b[0msolve\u001b[0m\u001b[0;34m(\u001b[0m\u001b[0mfirst_part\u001b[0m\u001b[0;34m,\u001b[0m \u001b[0msec_part\u001b[0m\u001b[0;34m)\u001b[0m\u001b[0;34m\u001b[0m\u001b[0m\n\u001b[0m\u001b[1;32m     67\u001b[0m \u001b[0;34m\u001b[0m\u001b[0m\n\u001b[1;32m     68\u001b[0m \u001b[0;32mdef\u001b[0m \u001b[0mlogistic_regression\u001b[0m\u001b[0;34m(\u001b[0m\u001b[0my\u001b[0m\u001b[0;34m,\u001b[0m \u001b[0mtx\u001b[0m\u001b[0;34m,\u001b[0m \u001b[0minitial_w\u001b[0m\u001b[0;34m,\u001b[0m \u001b[0mmax_iters\u001b[0m\u001b[0;34m,\u001b[0m \u001b[0mgamma\u001b[0m\u001b[0;34m)\u001b[0m\u001b[0;34m:\u001b[0m\u001b[0;34m\u001b[0m\u001b[0m\n",
      "\u001b[0;32m/usr/local/lib/python3.4/dist-packages/numpy/linalg/linalg.py\u001b[0m in \u001b[0;36msolve\u001b[0;34m(a, b)\u001b[0m\n\u001b[1;32m    373\u001b[0m     \u001b[0msignature\u001b[0m \u001b[0;34m=\u001b[0m \u001b[0;34m'DD->D'\u001b[0m \u001b[0;32mif\u001b[0m \u001b[0misComplexType\u001b[0m\u001b[0;34m(\u001b[0m\u001b[0mt\u001b[0m\u001b[0;34m)\u001b[0m \u001b[0;32melse\u001b[0m \u001b[0;34m'dd->d'\u001b[0m\u001b[0;34m\u001b[0m\u001b[0m\n\u001b[1;32m    374\u001b[0m     \u001b[0mextobj\u001b[0m \u001b[0;34m=\u001b[0m \u001b[0mget_linalg_error_extobj\u001b[0m\u001b[0;34m(\u001b[0m\u001b[0m_raise_linalgerror_singular\u001b[0m\u001b[0;34m)\u001b[0m\u001b[0;34m\u001b[0m\u001b[0m\n\u001b[0;32m--> 375\u001b[0;31m     \u001b[0mr\u001b[0m \u001b[0;34m=\u001b[0m \u001b[0mgufunc\u001b[0m\u001b[0;34m(\u001b[0m\u001b[0ma\u001b[0m\u001b[0;34m,\u001b[0m \u001b[0mb\u001b[0m\u001b[0;34m,\u001b[0m \u001b[0msignature\u001b[0m\u001b[0;34m=\u001b[0m\u001b[0msignature\u001b[0m\u001b[0;34m,\u001b[0m \u001b[0mextobj\u001b[0m\u001b[0;34m=\u001b[0m\u001b[0mextobj\u001b[0m\u001b[0;34m)\u001b[0m\u001b[0;34m\u001b[0m\u001b[0m\n\u001b[0m\u001b[1;32m    376\u001b[0m \u001b[0;34m\u001b[0m\u001b[0m\n\u001b[1;32m    377\u001b[0m     \u001b[0;32mreturn\u001b[0m \u001b[0mwrap\u001b[0m\u001b[0;34m(\u001b[0m\u001b[0mr\u001b[0m\u001b[0;34m.\u001b[0m\u001b[0mastype\u001b[0m\u001b[0;34m(\u001b[0m\u001b[0mresult_t\u001b[0m\u001b[0;34m,\u001b[0m \u001b[0mcopy\u001b[0m\u001b[0;34m=\u001b[0m\u001b[0;32mFalse\u001b[0m\u001b[0;34m)\u001b[0m\u001b[0;34m)\u001b[0m\u001b[0;34m\u001b[0m\u001b[0m\n",
      "\u001b[0;32m/usr/local/lib/python3.4/dist-packages/numpy/linalg/linalg.py\u001b[0m in \u001b[0;36m_raise_linalgerror_singular\u001b[0;34m(err, flag)\u001b[0m\n\u001b[1;32m     88\u001b[0m \u001b[0;34m\u001b[0m\u001b[0m\n\u001b[1;32m     89\u001b[0m \u001b[0;32mdef\u001b[0m \u001b[0m_raise_linalgerror_singular\u001b[0m\u001b[0;34m(\u001b[0m\u001b[0merr\u001b[0m\u001b[0;34m,\u001b[0m \u001b[0mflag\u001b[0m\u001b[0;34m)\u001b[0m\u001b[0;34m:\u001b[0m\u001b[0;34m\u001b[0m\u001b[0m\n\u001b[0;32m---> 90\u001b[0;31m     \u001b[0;32mraise\u001b[0m \u001b[0mLinAlgError\u001b[0m\u001b[0;34m(\u001b[0m\u001b[0;34m\"Singular matrix\"\u001b[0m\u001b[0;34m)\u001b[0m\u001b[0;34m\u001b[0m\u001b[0m\n\u001b[0m\u001b[1;32m     91\u001b[0m \u001b[0;34m\u001b[0m\u001b[0m\n\u001b[1;32m     92\u001b[0m \u001b[0;32mdef\u001b[0m \u001b[0m_raise_linalgerror_nonposdef\u001b[0m\u001b[0;34m(\u001b[0m\u001b[0merr\u001b[0m\u001b[0;34m,\u001b[0m \u001b[0mflag\u001b[0m\u001b[0;34m)\u001b[0m\u001b[0;34m:\u001b[0m\u001b[0;34m\u001b[0m\u001b[0m\n",
      "\u001b[0;31mLinAlgError\u001b[0m: Singular matrix"
     ]
    }
   ],
   "source": [
    "from preprocessing import *\n",
    "\n",
    "# Finding the Best columns\n",
    "best_number_of_colums = np.zeros(4)\n",
    "best_per_of_columns = np.zeros(4)\n",
    "\n",
    "for nbColumns in range(10,13):\n",
    "#for nbColumns in [2, 5, 10]:\n",
    "    y, tx, ids = oy, otx, oids\n",
    "    test_y, test_tx,test_ids = otest_y, otest_tx, otest_ids\n",
    "    # Preprocessing\n",
    "\n",
    "\n",
    "    PRI_jet_num_colomn_train = tx[:, 22]\n",
    "    PRI_jet_num_colomn_test = test_tx[:, 22]\n",
    "\n",
    "\n",
    "    y_clustered = list()\n",
    "    tx_clustered = list()\n",
    "    ids_clustered = list()\n",
    "    test_y_clustered = list()\n",
    "    test_tx_clustered = list()\n",
    "    test_ids_clustered = list()\n",
    "   \n",
    "\n",
    "    for i in range(4):\n",
    "        indices = [ind for ind,a in enumerate(PRI_jet_num_colomn_train) if a == i]\n",
    "        \n",
    "\n",
    "        y_clustered.append(y[indices])\n",
    "        tx_clustered.append(tx[indices])\n",
    "        ids_clustered.append(ids[indices])\n",
    "\n",
    "        test_indices = [ind for ind,a in enumerate(PRI_jet_num_colomn_test) if a == i]\n",
    "        \n",
    "        test_y_clustered.append(test_y[test_indices])\n",
    "        test_tx_clustered.append(test_tx[test_indices])\n",
    "        test_ids_clustered.append(test_ids[test_indices])\n",
    "\n",
    "        #delete colinear columns and preprocess the data\n",
    "        indices_to_delete = list()\n",
    "        for col in range(tx_clustered[i].shape[1]):\n",
    "            if min(tx_clustered[i][:, col]) == max(tx_clustered[i][:, col]):\n",
    "                indices_to_delete.append(col)\n",
    "\n",
    "        deleted_tx = np.delete(tx_clustered[i], indices_to_delete, 1)\n",
    "        tx_clustered[i] = prepro(deleted_tx, nbColumns)\n",
    "        \n",
    "        deleted_tx = np.delete(test_tx_clustered[i], indices_to_delete, 1)\n",
    "        test_tx_clustered[i] = prepro(deleted_tx, nbColumns)\n",
    "\n",
    "\n",
    "    # Cross-Validation & Weight computation\n",
    "\n",
    "    from cross_validation import *\n",
    "    w = list()\n",
    "    result = list()\n",
    "    \n",
    "\n",
    "    loss = 0\n",
    "    perGood = 0\n",
    "    maxW = 0\n",
    "    for i in range(4):\n",
    "        wi,loss_te, perGoodI = cross_validation_run(tx_clustered[i], y_clustered[i])\n",
    "        if(perGoodI > best_per_of_columns[i]):\n",
    "            best_per_of_columns[i] = perGoodI\n",
    "            best_number_of_colums[i] = nbColumns\n",
    "        \n",
    "        w.append(wi)\n",
    "        maxW += np.max(np.abs(wi))/4\n",
    "        loss += loss_te/4\n",
    "        perGood += perGoodI/4\n",
    "        test_y_clustered[i] = predict_labels(w[i], test_tx_clustered[i])\n",
    "        \n",
    "    print(\"Number of columns : \", nbColumns, \" loss : \", loss, \"Max of w : \", maxW,  \" Percentage of true Y : \", perGood)\n",
    "print(best_number_of_colums) "
   ]
  },
  {
   "cell_type": "code",
   "execution_count": null,
   "metadata": {},
   "outputs": [],
   "source": [
    "print(best_per_of_columns)\n",
    "print(best_number_of_colums) "
   ]
  },
  {
   "cell_type": "markdown",
   "metadata": {},
   "source": [
    "# Using least square on [cst, tx, tx^2, ...] \n",
    "31 - 0.695085425438 \n",
    "\n",
    "61 - 0.776\n",
    "\n",
    "91 - 0.787\n",
    "\n",
    "121 - 0.796\n",
    "\n",
    "151 - 0.805\n",
    "\n",
    "181 - 0.807\n",
    "\n",
    "211 - 0.809\n",
    "\n",
    "241 - 0.816\n",
    "\n",
    "271 - 0.822"
   ]
  },
  {
   "cell_type": "markdown",
   "metadata": {},
   "source": [
    "# Computing with good columns"
   ]
  },
  {
   "cell_type": "code",
   "execution_count": null,
   "metadata": {},
   "outputs": [],
   "source": [
    "y, tx, ids = oy, otx, oids\n",
    "test_y, test_tx,test_ids = otest_y, otest_tx, otest_ids\n",
    "# Preprocessing\n",
    "\n",
    "\n",
    "PRI_jet_num_colomn_train = tx[:, 22]\n",
    "PRI_jet_num_colomn_test = test_tx[:, 22]\n",
    "\n",
    "\n",
    "y_clustered = list()\n",
    "tx_clustered = list()\n",
    "ids_clustered = list()\n",
    "test_y_clustered = list()\n",
    "test_tx_clustered = list()\n",
    "test_ids_clustered = list()\n",
    "\n",
    "\n",
    "for i in range(4):\n",
    "    indices = [ind for ind,a in enumerate(PRI_jet_num_colomn_train) if a == i]\n",
    " \n",
    "\n",
    "    y_clustered.append(y[indices])\n",
    "    tx_clustered.append(tx[indices])\n",
    "    ids_clustered.append(ids[indices])\n",
    "\n",
    "    test_indices = [ind for ind,a in enumerate(PRI_jet_num_colomn_test) if a == i]\n",
    "\n",
    "    test_y_clustered.append(test_y[test_indices])\n",
    "    test_tx_clustered.append(test_tx[test_indices])\n",
    "    test_ids_clustered.append(test_ids[test_indices])\n",
    "\n",
    "    #delete colinear columns and preprocess the data\n",
    "    indices_to_delete = list()\n",
    "    for col in range(tx_clustered[i].shape[1]):\n",
    "        if min(tx_clustered[i][:, col]) == max(tx_clustered[i][:, col]):\n",
    "            indices_to_delete.append(col)\n",
    "\n",
    "    deleted_tx = np.delete(tx_clustered[i], indices_to_delete, 1)\n",
    "    tx_clustered[i] = prepro(deleted_tx, int(best_number_of_colums[i]))#addColumns(deleted_tx, int(best_number_of_colums[i]))\n",
    "\n",
    "    deleted_tx = np.delete(test_tx_clustered[i], indices_to_delete, 1)\n",
    "    test_tx_clustered[i] = prepro(deleted_tx, int(best_number_of_colums[i]))#addColumns(deleted_tx, int(best_number_of_colums[i]))\n",
    "\n",
    "\n",
    "# Cross-Validation & Weight computation\n",
    "\n",
    "from cross_validation import *\n",
    "w = list()\n",
    "result = list()\n",
    "\n",
    "\n",
    "loss = 0\n",
    "perGood = 0\n",
    "maxW = 0\n",
    "for i in range(4):\n",
    "    wi,loss_te, perGoodI = cross_validation_run(tx_clustered[i], y_clustered[i])\n",
    "    if(perGoodI > best_per_of_columns[i]):\n",
    "        best_per_of_columns[i] = perGoodI\n",
    "        best_number_of_colums[i] = nbColumns\n",
    "\n",
    "    w.append(wi)\n",
    "    maxW += np.max(np.abs(wi))/4\n",
    "    loss += loss_te/4\n",
    "    perGood += perGoodI/4\n",
    "    test_y_clustered[i] = predict_labels(w[i], test_tx_clustered[i])\n",
    "\n",
    "print(\" loss : \", loss, \"Max of w : \", maxW,  \" Percentage of true Y : \", perGood)"
   ]
  },
  {
   "cell_type": "markdown",
   "metadata": {},
   "source": [
    "old best: 0.826606619791\n",
    "\n",
    "new best: 0.827178252354\n",
    "\n",
    "intermediate best: 0.830793909724 (np.logspace(-5, 0, 15))\n",
    "\n"
   ]
  },
  {
   "cell_type": "markdown",
   "metadata": {},
   "source": [
    "# Analysing why it isn't working"
   ]
  },
  {
   "cell_type": "code",
   "execution_count": null,
   "metadata": {
    "collapsed": true
   },
   "outputs": [],
   "source": [
    "\n",
    "for i in range(4):\n",
    "    realPred = np.dot(tx_clustered[i], w[i])\n",
    "    #print(np.max(realPred))\n",
    "    #df = pd.DataFrame(realPred)\n",
    "    #df.hist(bins=300)\n",
    "    y_pred = predict_labels(w[i],tx_clustered[i])\n",
    "    \n",
    "    false_index = [ind for ind,a in enumerate(y_clustered[i]) if y_pred[ind] != a]\n",
    "    \n",
    "    print(np.mean(realPred[false_index]))\n",
    "    print(\"Per : \", percentageGood(y_clustered[i],tx_clustered[i],w[i]), \"Len : \", len(y_clustered[i]) ) \n",
    "    \n",
    "    print(len(w[i]))\n"
   ]
  },
  {
   "cell_type": "markdown",
   "metadata": {},
   "source": [
    "# Post Processing"
   ]
  },
  {
   "cell_type": "code",
   "execution_count": 11,
   "metadata": {
    "scrolled": true
   },
   "outputs": [],
   "source": [
    "test_ids = [item for sublist in test_ids_clustered for item in sublist]\n",
    "y_pred = [item for sublist in test_y_clustered for item in sublist]\n",
    "\n",
    "test_ids, y_pred = zip(*sorted(zip(test_ids, y_pred)))"
   ]
  },
  {
   "cell_type": "markdown",
   "metadata": {},
   "source": [
    "# Output Data"
   ]
  },
  {
   "cell_type": "code",
   "execution_count": 12,
   "metadata": {},
   "outputs": [],
   "source": [
    "name = 'whole_matrix_submission.csv'\n",
    "create_csv_submission(test_ids, y_pred, name)"
   ]
  },
  {
   "cell_type": "code",
   "execution_count": 13,
   "metadata": {},
   "outputs": [
    {
     "data": {
      "text/plain": [
       "array([ 0.,  0.,  0.,  0.])"
      ]
     },
     "execution_count": 13,
     "metadata": {},
     "output_type": "execute_result"
    }
   ],
   "source": [
    "np.zeros(4)"
   ]
  },
  {
   "cell_type": "code",
   "execution_count": null,
   "metadata": {
    "collapsed": true
   },
   "outputs": [],
   "source": []
  }
 ],
 "metadata": {
  "anaconda-cloud": {},
  "kernelspec": {
   "display_name": "Python 3",
   "language": "python",
   "name": "python3"
  },
  "language_info": {
   "codemirror_mode": {
    "name": "ipython",
    "version": 3
   },
   "file_extension": ".py",
   "mimetype": "text/x-python",
   "name": "python",
   "nbconvert_exporter": "python",
   "pygments_lexer": "ipython3",
   "version": "3.4.3"
  }
 },
 "nbformat": 4,
 "nbformat_minor": 2
}
