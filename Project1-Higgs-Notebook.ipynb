{
 "cells": [
  {
   "cell_type": "markdown",
   "metadata": {},
   "source": [
    "# Load Data"
   ]
  },
  {
   "cell_type": "code",
   "execution_count": 1,
   "metadata": {
    "collapsed": false
   },
   "outputs": [],
   "source": [
    "from proj1_helpers import *\n",
    "from implementations import *\n",
    "from cross_validation import *\n",
    "import numpy as np\n",
    "\n",
    "%load_ext autoreload\n",
    "%autoreload 2"
   ]
  },
  {
   "cell_type": "code",
   "execution_count": 17,
   "metadata": {
    "collapsed": false
   },
   "outputs": [],
   "source": [
    "y, tx, ids = load_csv_data('Data/train.csv', False)\n",
    "test_y, test_tx, test_ids= load_csv_data('Data/test.csv', False)"
   ]
  },
  {
   "cell_type": "markdown",
   "metadata": {},
   "source": [
    "# Preprocessing"
   ]
  },
  {
   "cell_type": "code",
   "execution_count": 21,
   "metadata": {
    "collapsed": false
   },
   "outputs": [],
   "source": [
    "#print(test_y.shape)\n",
    "\n",
    "PRI_jet_num_colomn_train = tx[:, 22]\n",
    "PRI_jet_num_colomn_test = test_tx[:, 22]\n",
    "\n",
    "\n",
    "y_clustered = list()\n",
    "tx_clustered = list()\n",
    "ids_clustered = list()\n",
    "test_y_clustered = list()\n",
    "test_tx_clustered = list()\n",
    "test_ids_clustered = list()\n",
    "\n",
    "for i in range(4):\n",
    "    indices = [ind for ind,a in enumerate(PRI_jet_num_colomn_train) if a == i]\n",
    "    y_clustered.append(y[indices])\n",
    "    tx_clustered.append(tx[indices])\n",
    "    ids_clustered.append(ids[indices])\n",
    "    \n",
    "    test_indices = [ind for ind,a in enumerate(PRI_jet_num_colomn_test) if a == i]\n",
    "    test_y_clustered.append(test_y[test_indices])\n",
    "    test_tx_clustered.append(test_tx[test_indices])\n",
    "    test_ids_clustered.append(test_ids[test_indices])\n",
    "    \n",
    "    #delete colinear columns\n",
    "    indices_to_delete = list()\n",
    "    for col in range(tx_clustered[i].shape[1]):\n",
    "        if min(tx_clustered[i][:, col]) == max(tx_clustered[i][:, col]):\n",
    "            indices_to_delete.append(col)\n",
    "\n",
    "    tx_clustered[i] = np.delete(tx_clustered[i], indices_to_delete, 1)\n",
    "    test_tx_clustered[i] = np.delete(test_tx_clustered[i], indices_to_delete, 1)"
   ]
  },
  {
   "cell_type": "markdown",
   "metadata": {},
   "source": [
    "# Cross-Validation & Weight computation"
   ]
  },
  {
   "cell_type": "code",
   "execution_count": 22,
   "metadata": {
    "collapsed": false
   },
   "outputs": [
    {
     "name": "stdout",
     "output_type": "stream",
     "text": [
      "Final: loss train:  0.391871113688  loss test:  0.392181236779  weights:  [ -2.72718369e-02  -2.69456774e-01  -4.23726697e-01   4.03466332e+02\n",
      "   3.76454228e-01  -4.03507279e+02  -6.09365988e+00  -1.73838876e-01\n",
      "   3.08024060e-02   4.14032255e+00  -1.07130893e-03  -6.39111356e-04\n",
      "   4.00758533e+00   6.64493415e-03   5.91913410e-05   9.28931646e-02\n",
      "  -5.37436259e-03   3.51637468e-02]   (18,)\n",
      "Final: loss train:  0.41303649184  loss test:  0.413460841985  weights:  [  3.19982757e-02  -2.19860696e-01  -2.48927144e-01  -8.80748536e-02\n",
      "   2.40295994e-01   5.37928247e-02  -2.54856373e+02  -1.69125547e-01\n",
      "   1.40712452e-01   8.23260910e+01   4.12771032e-03  -3.45116418e-03\n",
      "   8.36786056e+01  -7.82637756e-03   9.90590151e-04   8.76595854e-02\n",
      "   4.12270525e-03  -4.15677106e-02  -3.20824460e+03  -7.98267366e-04\n",
      "  -2.10968909e-03   3.38488503e+03]   (22,)\n",
      "Final: loss train:  0.354906884399  loss test:  0.355614393838  weights:  [  4.45213839e-02  -1.55395381e-01  -1.72486704e-01   1.18383831e-01\n",
      "   3.81629321e-02   1.98316912e-01   2.00704223e-02   2.38980888e-01\n",
      "  -7.85334770e-03   2.17054232e+01  -1.73612908e-01   1.31851241e-01\n",
      "   1.72140304e-01  -5.80216509e+00  -2.73980517e-03   7.05268463e-06\n",
      "  -5.49561848e+00  -7.17917963e-03   3.49096887e-03   9.03494109e-02\n",
      "   3.91358026e-03  -1.73817852e-01  -2.19274838e+02   6.91186869e-03\n",
      "   7.20082402e-03  -9.01358770e+01   4.98980332e-03  -3.79048138e-03\n",
      "   2.58450826e+02]   (29,)\n",
      "Final: loss train:  0.435291505467  loss test:  0.436766386831  weights:  [  5.44100304e-02  -1.15949951e-01  -1.46582504e-01   1.66933601e-01\n",
      "  -1.22190526e-01   2.33767976e-01   2.48327977e-02   1.87769184e-01\n",
      "  -9.52372854e-04  -8.23312442e+02  -1.51090286e-01   8.67797619e-02\n",
      "   9.68627093e-02   1.77959750e+02  -1.04468693e-02  -5.90260779e-04\n",
      "   1.80967915e+02  -2.88149282e-03   2.07631515e-03   6.57774952e-02\n",
      "   7.74072099e-03  -6.70048100e-02  -1.27516113e-01  -1.94900134e-03\n",
      "   2.46651392e-04  -1.29378986e-02   7.19932524e-03   1.65017336e-03\n",
      "   7.04316391e+02]   (29,)\n"
     ]
    }
   ],
   "source": [
    "from cross_validation import *\n",
    "w = list()\n",
    "result = list()\n",
    "\n",
    "for i in range(4):\n",
    "    w.append(cross_validation_run(tx_clustered[i], y_clustered[i]))\n",
    "    test_y_clustered[i] = predict_labels(w[i], test_tx_clustered[i])"
   ]
  },
  {
   "cell_type": "markdown",
   "metadata": {},
   "source": [
    "# Post Processing"
   ]
  },
  {
   "cell_type": "code",
   "execution_count": 23,
   "metadata": {
    "collapsed": false,
    "scrolled": true
   },
   "outputs": [],
   "source": [
    "test_ids = [item for sublist in test_ids_clustered for item in sublist]\n",
    "y_pred = [item for sublist in test_y_clustered for item in sublist]\n",
    "\n",
    "test_ids, y_pred = zip(*sorted(zip(test_ids, y_pred)))"
   ]
  },
  {
   "cell_type": "markdown",
   "metadata": {},
   "source": [
    "# Output Data"
   ]
  },
  {
   "cell_type": "code",
   "execution_count": 24,
   "metadata": {
    "collapsed": false
   },
   "outputs": [],
   "source": [
    "name = 'second-submission'\n",
    "create_csv_submission(test_ids, y_pred, name)"
   ]
  },
  {
   "cell_type": "code",
   "execution_count": null,
   "metadata": {
    "collapsed": true
   },
   "outputs": [],
   "source": []
  }
 ],
 "metadata": {
  "anaconda-cloud": {},
  "kernelspec": {
   "display_name": "Python [Root]",
   "language": "python",
   "name": "Python [Root]"
  },
  "language_info": {
   "codemirror_mode": {
    "name": "ipython",
    "version": 3
   },
   "file_extension": ".py",
   "mimetype": "text/x-python",
   "name": "python",
   "nbconvert_exporter": "python",
   "pygments_lexer": "ipython3",
   "version": "3.5.2"
  }
 },
 "nbformat": 4,
 "nbformat_minor": 2
}
