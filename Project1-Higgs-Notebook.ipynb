{
 "cells": [
  {
   "cell_type": "markdown",
   "metadata": {},
   "source": [
    "# Load Data"
   ]
  },
  {
   "cell_type": "code",
   "execution_count": 1,
   "metadata": {},
   "outputs": [],
   "source": [
    "from proj1_helpers import *\n",
    "from implementations import *\n",
    "from cross_validation import *\n",
    "import numpy as np"
   ]
  },
  {
   "cell_type": "code",
   "execution_count": 2,
   "metadata": {
    "collapsed": true
   },
   "outputs": [],
   "source": [
    "y, tx, ids = load_csv_data('Data/train.csv', False)\n",
    "test_y, test_tx, test_ids= load_csv_data('Data/test.csv', False)"
   ]
  },
  {
   "cell_type": "markdown",
   "metadata": {},
   "source": [
    "# Preprocessing"
   ]
  },
  {
   "cell_type": "code",
   "execution_count": 3,
   "metadata": {},
   "outputs": [
    {
     "name": "stdout",
     "output_type": "stream",
     "text": [
      "(568238,)\n"
     ]
    }
   ],
   "source": [
    "print(test_y.shape)"
   ]
  },
  {
   "cell_type": "markdown",
   "metadata": {},
   "source": [
    "# Cross-Validation"
   ]
  },
  {
   "cell_type": "code",
   "execution_count": 4,
   "metadata": {},
   "outputs": [
    {
     "name": "stdout",
     "output_type": "stream",
     "text": [
      "0  loss train: 0.339877979948  loss test 0.339177848533  weights: [  8.24365242e-05  -7.24862238e-03  -6.02663292e-03  -5.84495473e-04\n",
      "  -1.60237804e-02   4.59970849e-04  -2.58226584e-02   3.24571114e-01\n",
      "  -6.82270989e-05   4.69521976e-01  -2.20071164e-01   9.32217557e-02\n",
      "   5.97881697e-02  -4.61270935e-01  -1.11205566e-03  -1.76979966e-03\n",
      "  -4.56646244e-01   7.01557760e-04   1.05571491e-03   3.73326831e-03\n",
      "   9.08484900e-04  -5.37216335e-04  -3.27802339e-01  -1.36657184e-03\n",
      "   5.97278301e-04   1.21345129e-03  -1.80785276e-03  -6.20051619e-03\n",
      "  -9.93959085e-03  -4.69033367e-01]\n",
      "1  loss train: 0.339331811085  loss test 0.340835437808  weights: [  7.95272654e-05  -7.23002152e-03  -6.06689176e-03  -5.61374695e-04\n",
      "  -2.46136572e-02   4.91058255e-04  -2.60313943e-02   3.22924535e-01\n",
      "  -9.09906124e-05  -3.45446340e+00  -2.20277478e-01   9.61767883e-02\n",
      "   6.86923218e-02   3.46284299e+00   8.91034938e-04  -4.27450854e-04\n",
      "   3.46764864e+00  -2.37292664e-03   1.61636966e-03   3.63502290e-03\n",
      "   1.37360776e-04  -5.46795708e-04  -3.30390164e-01  -1.39163148e-03\n",
      "   1.33040833e-03   5.03893612e-04  -1.58562026e-03  -5.42671611e-03\n",
      "  -1.10667625e-02   3.45487356e+00]\n",
      "2  loss train: 0.340041327712  loss test 0.338706202082  weights: [  7.74560630e-05  -7.22742313e-03  -6.09254245e-03  -5.15740129e-04\n",
      "  -1.80719288e-02   4.52684039e-04  -2.80259815e-02   3.28115827e-01\n",
      "   1.04636674e-04  -2.29660566e+00  -2.26580069e-01   9.34578482e-02\n",
      "   6.44132543e-02   2.30474353e+00  -9.57047891e-04  -6.63826884e-04\n",
      "   2.30983292e+00  -3.80693820e-04   5.89453441e-04   3.80520152e-03\n",
      "   3.19433373e-04  -5.46919087e-04  -3.32537569e-01  -1.48595436e-03\n",
      "   6.86106768e-04   1.24849558e-03  -1.64274507e-03  -5.55934985e-03\n",
      "  -1.11050650e-02   2.29708841e+00]\n",
      "3  loss train: 0.339426753639  loss test 0.340518255098  weights: [  8.22972468e-05  -7.10609333e-03  -6.03112098e-03  -5.23780634e-04\n",
      "  -1.89321435e-02   4.90678366e-04  -2.42549257e-02   3.24927408e-01\n",
      "  -6.50499274e-05  -5.65229370e+00  -2.17976194e-01   9.73382576e-02\n",
      "   6.32982083e-02   5.66056893e+00  -1.34122040e-04  -9.67579543e-04\n",
      "   5.66507797e+00  -1.10114106e-04   6.09798854e-04   3.61112789e-03\n",
      "   5.35018782e-05  -5.46204560e-04  -3.31490593e-01  -1.38816605e-03\n",
      "   7.16429873e-04   1.11537438e-03  -1.67433514e-03  -6.14784803e-03\n",
      "  -1.23238746e-02   5.65274489e+00]\n",
      "Final: loss train:  0.339669468096  loss test:  0.33980943588  weights:  [  8.04292749e-05  -7.20304009e-03  -6.05429703e-03  -5.46347733e-04\n",
      "  -1.94103775e-02   4.73597877e-04  -2.60337400e-02   3.25134721e-01\n",
      "  -2.99077412e-05  -2.73346020e+00  -2.21226226e-01   9.50486624e-02\n",
      "   6.40479885e-02   2.74172113e+00  -3.28047665e-04  -9.57164236e-04\n",
      "   2.74647832e+00  -5.40544202e-04   9.67834215e-04   3.69615516e-03\n",
      "   3.54695232e-04  -5.44283922e-04  -3.30555166e-01  -1.40808093e-03\n",
      "   8.32555819e-04   1.02030372e-03  -1.67763831e-03  -5.83360755e-03\n",
      "  -1.11088232e-02   2.73391837e+00]\n"
     ]
    }
   ],
   "source": [
    "from cross_validation import *\n",
    "cross_validation_run(tx, y)"
   ]
  },
  {
   "cell_type": "markdown",
   "metadata": {},
   "source": [
    "# Weight Computation"
   ]
  },
  {
   "cell_type": "code",
   "execution_count": 7,
   "metadata": {},
   "outputs": [
    {
     "name": "stdout",
     "output_type": "stream",
     "text": [
      "0.339686809477 [  8.03494315e-05  -7.20202273e-03  -6.05417273e-03  -5.47559066e-04\n",
      "  -1.93874702e-02   4.73451621e-04  -2.60379054e-02   3.25106300e-01\n",
      "  -3.80780260e-05  -2.72729930e+00  -2.21220140e-01   9.50794092e-02\n",
      "   6.40351616e-02   2.73555898e+00  -3.31801229e-04  -9.54325120e-04\n",
      "   2.74031573e+00  -5.34164922e-04   9.73498609e-04   3.69225052e-03\n",
      "   3.54487428e-04  -5.43344599e-04  -3.30448035e-01  -1.40800497e-03\n",
      "   8.31432882e-04   1.02117272e-03  -1.68047416e-03  -5.83664815e-03\n",
      "  -1.11087997e-02   2.72775924e+00]\n"
     ]
    }
   ],
   "source": [
    "w, loss = least_squares(y,tx)\n",
    "print(w, loss)"
   ]
  },
  {
   "cell_type": "code",
   "execution_count": null,
   "metadata": {
    "collapsed": true
   },
   "outputs": [],
   "source": []
  },
  {
   "cell_type": "markdown",
   "metadata": {},
   "source": [
    "# Output Data"
   ]
  },
  {
   "cell_type": "code",
   "execution_count": null,
   "metadata": {},
   "outputs": [],
   "source": [
    "name = 'first-submission'\n",
    "y_pred = predict_labels(w,test_tx)\n",
    "print(y_pred)\n",
    "\n",
    "\n",
    "create_csv_submission(test_ids, y_pred, name)"
   ]
  },
  {
   "cell_type": "code",
   "execution_count": null,
   "metadata": {
    "collapsed": true
   },
   "outputs": [],
   "source": []
  },
  {
   "cell_type": "code",
   "execution_count": null,
   "metadata": {
    "collapsed": true
   },
   "outputs": [],
   "source": []
  }
 ],
 "metadata": {
  "kernelspec": {
   "display_name": "Python 3",
   "language": "python",
   "name": "python3"
  },
  "language_info": {
   "codemirror_mode": {
    "name": "ipython",
    "version": 3
   },
   "file_extension": ".py",
   "mimetype": "text/x-python",
   "name": "python",
   "nbconvert_exporter": "python",
   "pygments_lexer": "ipython3",
   "version": "3.6.1"
  }
 },
 "nbformat": 4,
 "nbformat_minor": 2
}
