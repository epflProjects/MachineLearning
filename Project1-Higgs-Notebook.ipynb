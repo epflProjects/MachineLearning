{
 "cells": [
  {
   "cell_type": "markdown",
   "metadata": {},
   "source": [
    "# Load Data"
   ]
  },
  {
   "cell_type": "code",
   "execution_count": 26,
   "metadata": {
    "collapsed": true
   },
   "outputs": [],
   "source": [
    "from proj1_helpers import *\n",
    "from implementations import *\n",
    "import numpy as np\n",
    "\n",
    "y, tx, ids = load_csv_data('Data/train.csv', False)\n",
    "test_y, test_tx, test_ids= load_csv_data('Data/test.csv', False)"
   ]
  },
  {
   "cell_type": "markdown",
   "metadata": {},
   "source": [
    "# Preprocessing"
   ]
  },
  {
   "cell_type": "code",
   "execution_count": 27,
   "metadata": {},
   "outputs": [
    {
     "name": "stdout",
     "output_type": "stream",
     "text": [
      "(568238,)\n"
     ]
    }
   ],
   "source": [
    "print(test_y.shape)"
   ]
  },
  {
   "cell_type": "markdown",
   "metadata": {},
   "source": [
    "# Weight Computation"
   ]
  },
  {
   "cell_type": "code",
   "execution_count": 61,
   "metadata": {},
   "outputs": [
    {
     "name": "stdout",
     "output_type": "stream",
     "text": [
      "[  8.03908656e-05  -7.20112725e-03  -6.05470621e-03  -5.47503706e-04\n",
      "  -1.93917581e-02   4.73466159e-04  -2.60377150e-02   3.25108506e-01\n",
      "  -3.80835171e-05  -2.72729929e+00  -2.21218331e-01   9.50817492e-02\n",
      "   6.40392496e-02   2.73555898e+00  -3.31801082e-04  -9.54327750e-04\n",
      "   2.74031566e+00  -5.34164922e-04   9.73498609e-04   3.69225052e-03\n",
      "   3.54487428e-04  -5.43344599e-04  -3.30448035e-01  -1.40800497e-03\n",
      "   8.31432882e-04   1.02117272e-03  -1.68047416e-03  -5.83664815e-03\n",
      "  -1.11087997e-02   2.72775918e+00] 0.339686809908\n"
     ]
    }
   ],
   "source": [
    "w, loss = least_squares(y,tx)\n",
    "print(w, loss)\n",
    "\n",
    "#Test avec SGD -> fait de la merde\n",
    "wGD, lossGD = least_squares_SGD(y, tx, w, 1, 0.000001)"
   ]
  },
  {
   "cell_type": "code",
   "execution_count": 63,
   "metadata": {},
   "outputs": [
    {
     "name": "stdout",
     "output_type": "stream",
     "text": [
      "0.972753294399 0.949092540374\n"
     ]
    }
   ],
   "source": [
    "train_loss = compute_mse(test_y,test_tx,w)\n",
    "train_lossGD = compute_mse(test_y,test_tx,wGD)\n",
    "print(train_loss,train_lossGD)"
   ]
  },
  {
   "cell_type": "markdown",
   "metadata": {},
   "source": [
    "# Output Data"
   ]
  },
  {
   "cell_type": "code",
   "execution_count": 64,
   "metadata": {},
   "outputs": [
    {
     "name": "stdout",
     "output_type": "stream",
     "text": [
      "[-1. -1. -1. ..., -1.  1. -1.]\n"
     ]
    }
   ],
   "source": [
    "name = 'first-submission'\n",
    "y_pred = predict_labels(w,test_tx)\n",
    "print(y_pred)\n",
    "\n",
    "\n",
    "create_csv_submission(test_ids, y_pred, name)"
   ]
  },
  {
   "cell_type": "code",
   "execution_count": null,
   "metadata": {
    "collapsed": true
   },
   "outputs": [],
   "source": []
  }
 ],
 "metadata": {
  "kernelspec": {
   "display_name": "Python 3",
   "language": "python",
   "name": "python3"
  },
  "language_info": {
   "codemirror_mode": {
    "name": "ipython",
    "version": 3
   },
   "file_extension": ".py",
   "mimetype": "text/x-python",
   "name": "python",
   "nbconvert_exporter": "python",
   "pygments_lexer": "ipython3",
   "version": "3.6.1"
  }
 },
 "nbformat": 4,
 "nbformat_minor": 2
}
