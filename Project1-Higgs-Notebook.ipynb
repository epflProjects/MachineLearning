{
 "cells": [
  {
   "cell_type": "markdown",
   "metadata": {},
   "source": [
    "# Load Data"
   ]
  },
  {
   "cell_type": "code",
   "execution_count": 1,
   "metadata": {},
   "outputs": [],
   "source": [
    "from proj1_helpers import *\n",
    "from implementations import *\n",
    "from cross_validation import *\n",
    "import numpy as np\n",
    "\n",
    "\n",
    "%load_ext autoreload\n",
    "%autoreload 2\n",
    "\n",
    "oy, otx, oids = load_csv_data('Data/train.csv', False)\n",
    "otest_y, otest_tx, otest_ids= load_csv_data('Data/test.csv', False)"
   ]
  },
  {
   "cell_type": "code",
   "execution_count": 10,
   "metadata": {},
   "outputs": [
    {
     "name": "stdout",
     "output_type": "stream",
     "text": [
      "Len tx :  270\n",
      "Len tx :  270\n",
      "Len tx :  270\n",
      "Len tx :  270\n",
      "Number of columns :  10  loss :  4.57594964754e+26 Percentage of true Y :  0.822293129522\n"
     ]
    }
   ],
   "source": [
    "from preprocessing import *\n",
    "\n",
    "for nbColumns in range(10,11):\n",
    "    y, tx, ids = oy, otx, oids\n",
    "    test_y, test_tx,test_ids = otest_y, otest_tx, otest_ids\n",
    "\n",
    "\n",
    "\n",
    "\n",
    "    # Preprocessing\n",
    "\n",
    "    #print(test_y.shape)\n",
    "\n",
    "\n",
    "\n",
    "    PRI_jet_num_colomn_train = tx[:, 22]\n",
    "    PRI_jet_num_colomn_test = test_tx[:, 22]\n",
    "\n",
    "\n",
    "    y_clustered = list()\n",
    "    tx_clustered = list()\n",
    "    ids_clustered = list()\n",
    "    test_y_clustered = list()\n",
    "    test_tx_clustered = list()\n",
    "    test_ids_clustered = list()\n",
    "\n",
    "    for i in range(4):\n",
    "        indices = [ind for ind,a in enumerate(PRI_jet_num_colomn_train) if a == i]\n",
    "\n",
    "        y_clustered.append(y[indices])\n",
    "        tx_clustered.append(addColumns(tx[indices], nbColumns))\n",
    "        ids_clustered.append(ids[indices])\n",
    "\n",
    "        test_indices = [ind for ind,a in enumerate(PRI_jet_num_colomn_test) if a == i]\n",
    "        test_y_clustered.append(test_y[test_indices])\n",
    "        \n",
    "        test_tx_clustered.append(addColumns(test_tx[test_indices],nbColumns))\n",
    "        print(\"Len tx : \",len(test_tx_clustered[i][0]))\n",
    "        test_ids_clustered.append(test_ids[test_indices])\n",
    "\n",
    "        #delete colinear columns\n",
    "        indices_to_delete = list()\n",
    "        for col in range(tx_clustered[i].shape[1]):\n",
    "            if min(tx_clustered[i][:, col]) == max(tx_clustered[i][:, col]):\n",
    "                indices_to_delete.append(col)\n",
    "\n",
    "        tx_clustered[i] = np.delete(tx_clustered[i], indices_to_delete, 1)\n",
    "        test_tx_clustered[i] = np.delete(test_tx_clustered[i], indices_to_delete, 1)\n",
    "\n",
    "\n",
    "\n",
    "    # Cross-Validation & Weight computation\n",
    "\n",
    "    from cross_validation import *\n",
    "    w = list()\n",
    "    result = list()\n",
    "\n",
    "    loss = 0\n",
    "    perGood = 0\n",
    "    for i in range(4):\n",
    "        wi, loss_tr, loss_te, perGoodI = cross_validation_run(tx_clustered[i], y_clustered[i])\n",
    "        w.append(wi)\n",
    "        loss += loss_te/4\n",
    "        perGood += perGoodI/4\n",
    "        test_y_clustered[i] = predict_labels(w[i], test_tx_clustered[i])\n",
    "        \n",
    "    print(\"Number of columns : \", nbColumns, \" loss : \", loss, \"Percentage of true Y : \", perGood)\n",
    "   "
   ]
  },
  {
   "cell_type": "markdown",
   "metadata": {},
   "source": [
    "# Post Processing"
   ]
  },
  {
   "cell_type": "code",
   "execution_count": 11,
   "metadata": {
    "collapsed": true,
    "scrolled": true
   },
   "outputs": [],
   "source": [
    "test_ids = [item for sublist in test_ids_clustered for item in sublist]\n",
    "y_pred = [item for sublist in test_y_clustered for item in sublist]\n",
    "\n",
    "test_ids, y_pred = zip(*sorted(zip(test_ids, y_pred)))"
   ]
  },
  {
   "cell_type": "markdown",
   "metadata": {},
   "source": [
    "# Output Data"
   ]
  },
  {
   "cell_type": "code",
   "execution_count": 12,
   "metadata": {
    "collapsed": true
   },
   "outputs": [],
   "source": [
    "name = 'third-submission'\n",
    "create_csv_submission(test_ids, y_pred, name)"
   ]
  },
  {
   "cell_type": "code",
   "execution_count": null,
   "metadata": {
    "collapsed": true
   },
   "outputs": [],
   "source": []
  }
 ],
 "metadata": {
  "anaconda-cloud": {},
  "kernelspec": {
   "display_name": "Python 3",
   "language": "python",
   "name": "python3"
  },
  "language_info": {
   "codemirror_mode": {
    "name": "ipython",
    "version": 3
   },
   "file_extension": ".py",
   "mimetype": "text/x-python",
   "name": "python",
   "nbconvert_exporter": "python",
   "pygments_lexer": "ipython3",
   "version": "3.6.1"
  }
 },
 "nbformat": 4,
 "nbformat_minor": 2
}
