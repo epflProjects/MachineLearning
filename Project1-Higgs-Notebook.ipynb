{
 "cells": [
  {
   "cell_type": "markdown",
   "metadata": {},
   "source": [
    "# Load Data"
   ]
  },
  {
   "cell_type": "code",
   "execution_count": 3,
   "metadata": {
    "collapsed": false
   },
   "outputs": [
    {
     "name": "stdout",
     "output_type": "stream",
     "text": [
      "The autoreload extension is already loaded. To reload it, use:\n",
      "  %reload_ext autoreload\n"
     ]
    }
   ],
   "source": [
    "from proj1_helpers import *\n",
    "from implementations import *\n",
    "from cross_validation import *\n",
    "import numpy as np\n",
    "\n",
    "%load_ext autoreload\n",
    "%autoreload 2"
   ]
  },
  {
   "cell_type": "code",
   "execution_count": 4,
   "metadata": {
    "collapsed": false
   },
   "outputs": [],
   "source": [
    "y, tx, ids = load_csv_data('Data/train.csv', False)\n",
    "test_y, test_tx, test_ids= load_csv_data('Data/test.csv', False)"
   ]
  },
  {
   "cell_type": "markdown",
   "metadata": {},
   "source": [
    "# Preprocessing"
   ]
  },
  {
   "cell_type": "code",
   "execution_count": 5,
   "metadata": {
    "collapsed": false
   },
   "outputs": [],
   "source": [
    "#print(test_y.shape)\n",
    "\n",
    "PRI_jet_num_colomn_train = tx[:, 22]\n",
    "PRI_jet_num_colomn_test = test_tx[:, 22]\n",
    "\n",
    "\n",
    "y_clustered = list()\n",
    "tx_clustered = list()\n",
    "ids_clustered = list()\n",
    "test_y_clustered = list()\n",
    "test_tx_clustered = list()\n",
    "test_ids_clustered = list()\n",
    "\n",
    "for i in range(4):\n",
    "    indices = [ind for ind,a in enumerate(PRI_jet_num_colomn_train) if a == i]\n",
    "    y_clustered.append(y[indices])\n",
    "    tx_clustered.append(tx[indices])\n",
    "    ids_clustered.append(ids[indices])\n",
    "    \n",
    "    test_indices = [ind for ind,a in enumerate(PRI_jet_num_colomn_test) if a == i]\n",
    "    test_y_clustered.append(test_y[test_indices])\n",
    "    test_tx_clustered.append(test_tx[test_indices])\n",
    "    test_ids_clustered.append(test_ids[test_indices])\n",
    "    \n",
    "    #delete colinear columns\n",
    "    indices_to_delete = list()\n",
    "    for col in range(tx_clustered[i].shape[1]):\n",
    "        if min(tx_clustered[i][:, col]) == max(tx_clustered[i][:, col]):\n",
    "            indices_to_delete.append(col)\n",
    "\n",
    "    tx_clustered[i] = np.delete(tx_clustered[i], indices_to_delete, 1)\n",
    "    test_tx_clustered[i] = np.delete(test_tx_clustered[i], indices_to_delete, 1)"
   ]
  },
  {
   "cell_type": "markdown",
   "metadata": {},
   "source": [
    "# Cross-Validation"
   ]
  },
  {
   "cell_type": "code",
   "execution_count": 6,
   "metadata": {
    "collapsed": false
   },
   "outputs": [
    {
     "name": "stdout",
     "output_type": "stream",
     "text": [
      "Final: loss train:  0.282875035536  loss test:  0.28306162321  weights:  [  1.56941741e-04  -1.14793504e-02  -6.52299693e-03   5.12500170e+01\n",
      "   2.11777658e-01  -5.12559593e+01  -2.50872039e-01  -5.73721502e-01\n",
      "   7.75496555e-02   2.48850960e-01  -1.09955776e-03  -1.35950188e-03\n",
      "   2.73490127e-01   5.96423328e-03  -6.08672753e-04   7.83966547e-03\n",
      "  -2.88090152e-03   9.88855462e-05]   (18,)\n",
      "Final: loss train:  0.38429240573  loss test:  0.384731432177  weights:  [  1.65864317e-04  -7.45944523e-03  -2.63614826e-03  -3.45137893e-03\n",
      "   3.82904989e-02   2.56415779e-03  -4.00706554e+00  -3.03672143e-01\n",
      "   1.28108809e-01   4.01041913e+00   2.47384323e-03  -2.27272382e-03\n",
      "   4.01949204e+00  -5.90855972e-03   1.31836511e-04   3.92162913e-03\n",
      "   2.17422906e-03  -1.00861743e-03  -6.02985018e+01  -1.67122647e-04\n",
      "  -2.65875973e-04   6.43076719e+01]   (22,)\n",
      "Final: loss train:  0.364326911704  loss test:  0.365129125769  weights:  [  2.04517575e-04  -5.29633440e-03  -2.17197415e-03   2.82524901e-04\n",
      "  -4.64399500e-02   5.77829403e-04  -1.13459131e-02   6.94357774e-02\n",
      "  -9.84441295e-04   2.63681055e-03  -1.91568155e-01   1.17220222e-01\n",
      "   4.25006079e-01   1.91882839e-03  -1.66588840e-03  -4.84887132e-04\n",
      "   6.22618724e-03  -7.23712591e-03   1.23925018e-03   2.57162399e-03\n",
      "   2.98140370e-03  -2.05076808e-03  -2.39049075e+00   3.97672562e-03\n",
      "   4.82695940e-03  -2.38835132e+00   2.49266958e-03  -1.77258856e-03\n",
      "   2.38677199e+00]   (29,)\n",
      "Final: loss train:  0.365062448542  loss test:  0.366101826406  weights:  [  2.04240737e-04  -3.61043278e-03  -1.39260617e-03   1.24059584e-03\n",
      "  -1.55809063e-01   8.94438937e-04  -8.24051775e-03   4.72838713e-02\n",
      "  -5.27811276e-04  -6.25095029e+00  -1.33501517e-01   7.42582165e-02\n",
      "   2.38970261e-01   6.25314034e+00  -8.58813869e-03  -4.21140730e-04\n",
      "   6.25607543e+00  -2.57698554e-03   7.82109967e-04   1.46628968e-03\n",
      "   3.93389915e-03  -8.27174812e-04  -1.64841267e-03  -1.46016491e-03\n",
      "   4.89208528e-04  -1.15046284e-03   3.50949204e-03   7.53899220e-04\n",
      "   6.25052511e+00]   (29,)\n"
     ]
    }
   ],
   "source": [
    "from cross_validation import *\n",
    "w = list()\n",
    "result = list()\n",
    "\n",
    "for i in range(4):\n",
    "    w.append(cross_validation_run(tx_clustered[i], y_clustered[i]))\n",
    "    test_y_clustered[i] = predict_labels(w[i], test_tx_clustered[i])"
   ]
  },
  {
   "cell_type": "markdown",
   "metadata": {},
   "source": [
    "# Weight Computation"
   ]
  },
  {
   "cell_type": "code",
   "execution_count": 7,
   "metadata": {
    "collapsed": false
   },
   "outputs": [
    {
     "name": "stdout",
     "output_type": "stream",
     "text": [
      "0.339686809477 [  8.03494352e-05  -7.20202266e-03  -6.05417274e-03  -5.47559078e-04\n",
      "  -1.93874687e-02   4.73451613e-04  -2.60379058e-02   3.25106299e-01\n",
      "  -3.80780000e-05  -2.72788699e+00  -2.21220141e-01   9.50794097e-02\n",
      "   6.40351609e-02   2.73614667e+00  -3.31801090e-04  -9.54325141e-04\n",
      "   2.74090341e+00  -5.34165279e-04   9.73498912e-04   3.69225050e-03\n",
      "   3.54487164e-04  -5.43344618e-04  -3.30448035e-01  -1.40800497e-03\n",
      "   8.31432840e-04   1.02117276e-03  -1.68047418e-03  -5.83664793e-03\n",
      "  -1.11088004e-02   2.72834692e+00]\n"
     ]
    }
   ],
   "source": [
    "w, loss = least_squares(y,tx)\n",
    "print(w, loss)"
   ]
  },
  {
   "cell_type": "markdown",
   "metadata": {},
   "source": [
    "# Post Processing"
   ]
  },
  {
   "cell_type": "code",
   "execution_count": 10,
   "metadata": {
    "collapsed": false,
    "scrolled": true
   },
   "outputs": [],
   "source": [
    "test_ids = [item for sublist in test_ids_clustered for item in sublist]\n",
    "y_pred = [item for sublist in test_y_clustered for item in sublist]\n",
    "\n",
    "test_ids, y_pred = zip(*sorted(zip(test_ids, y_pred)))"
   ]
  },
  {
   "cell_type": "markdown",
   "metadata": {},
   "source": [
    "# Output Data"
   ]
  },
  {
   "cell_type": "code",
   "execution_count": null,
   "metadata": {
    "collapsed": false
   },
   "outputs": [],
   "source": [
    "name = 'second-submission'\n",
    "create_csv_submission(test_ids, y_pred, name)"
   ]
  },
  {
   "cell_type": "code",
   "execution_count": null,
   "metadata": {
    "collapsed": true
   },
   "outputs": [],
   "source": []
  },
  {
   "cell_type": "code",
   "execution_count": null,
   "metadata": {
    "collapsed": true
   },
   "outputs": [],
   "source": []
  }
 ],
 "metadata": {
  "anaconda-cloud": {},
  "kernelspec": {
   "display_name": "Python [Root]",
   "language": "python",
   "name": "Python [Root]"
  },
  "language_info": {
   "codemirror_mode": {
    "name": "ipython",
    "version": 3
   },
   "file_extension": ".py",
   "mimetype": "text/x-python",
   "name": "python",
   "nbconvert_exporter": "python",
   "pygments_lexer": "ipython3",
   "version": "3.5.2"
  }
 },
 "nbformat": 4,
 "nbformat_minor": 2
}
