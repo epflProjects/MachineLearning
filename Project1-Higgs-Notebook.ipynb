{
 "cells": [
  {
   "cell_type": "markdown",
   "metadata": {},
   "source": [
    "# Load Data"
   ]
  },
  {
   "cell_type": "code",
   "execution_count": 3,
   "metadata": {},
   "outputs": [],
   "source": [
    "from proj1_helpers import *\n",
    "from implementations import *\n",
    "from cross_validation import *\n",
    "import numpy as np\n",
    "import pandas as pd\n",
    "\n",
    "%load_ext autoreload\n",
    "%autoreload 2\n",
    "\n",
    "oy, otx, oids = load_csv_data('Data/train.csv', False)\n",
    "otest_y, otest_tx, otest_ids= load_csv_data('Data/test.csv', False)\n",
    "\n",
    "#data = pd.read_csv('Data/train.csv', sep=\",\")\n"
   ]
  },
  {
   "cell_type": "code",
   "execution_count": 4,
   "metadata": {},
   "outputs": [],
   "source": [
    "import matplotlib.pyplot as plt\n",
    "%matplotlib inline\n",
    "\n",
    "#df = data.sample(10)\n",
    "#pd.plotting.scatter_matrix(df, alpha=0.2, diagonal='hist')\n"
   ]
  },
  {
   "cell_type": "code",
   "execution_count": 51,
   "metadata": {},
   "outputs": [
    {
     "data": {
      "text/plain": [
       "Prediction\n",
       "b    Axes(0.125,0.125;0.775x0.755)\n",
       "s    Axes(0.125,0.125;0.775x0.755)\n",
       "Name: DER_lep_eta_centrality, dtype: object"
      ]
     },
     "execution_count": 51,
     "metadata": {},
     "output_type": "execute_result"
    },
    {
     "data": {
      "image/png": "[encoded data removed]",
      "text/plain": [
       "<matplotlib.figure.Figure at 0x16561d0f0>"
      ]
     },
     "metadata": {},
     "output_type": "display_data"
    }
   ],
   "source": [
    "#data.DER_lep_eta_centrality[~data.DER_lep_eta_centrality.isin([-999.0])].groupby(data.Prediction).hist(bins=20)"
   ]
  },
  {
   "cell_type": "code",
   "execution_count": 52,
   "metadata": {
    "collapsed": true
   },
   "outputs": [],
   "source": [
    "#pd.plotting.scatter_matrix(data)"
   ]
  },
  {
   "cell_type": "code",
   "execution_count": 45,
   "metadata": {
    "scrolled": true
   },
   "outputs": [
    {
     "name": "stdout",
     "output_type": "stream",
     "text": [
      "Number of columns :  2  loss :  0.339976835205 Max of w :  26.7578403775  Percentage of true Y :  0.745986200502\n",
      "Number of columns :  3  loss :  1.16769308891 Max of w :  59.2409825309  Percentage of true Y :  0.776630951308\n",
      "Number of columns :  4  loss :  0.868346137331 Max of w :  40.3989929125  Percentage of true Y :  0.787862555677\n",
      "Number of columns :  5  loss :  7468019.40073 Max of w :  114.145544219  Percentage of true Y :  0.797252160852\n",
      "Number of columns :  6  loss :  179832939619.0 Max of w :  11.2325125347  Percentage of true Y :  0.806634209627\n",
      "Number of columns :  7  loss :  2.49018885368e+14 Max of w :  113.817212737  Percentage of true Y :  0.808852979694\n",
      "Number of columns :  8  loss :  1.14560369884e+17 Max of w :  6923.05711899  Percentage of true Y :  0.798018689872\n",
      "Number of columns :  9  loss :  6.25605795973e+21 Max of w :  12451.3077268  Percentage of true Y :  0.79639127385\n",
      "Number of columns :  10  loss :  4.55544829557e+26 Max of w :  234886836968.0  Percentage of true Y :  0.768527884974\n",
      "Number of columns :  11  loss :  4.31569249643e+29 Max of w :  27992246.3361  Percentage of true Y :  0.757465157584\n",
      "Number of columns :  12  loss :  2.16671292803e+36 Max of w :  11196088513.2  Percentage of true Y :  0.714610160589\n",
      "[  7.  11.  11.  11.]\n"
     ]
    }
   ],
   "source": [
    "from preprocessing import *\n",
    "\n",
    "# Finding the Best columns\n",
    "best_number_of_colums = np.zeros(4)\n",
    "best_per_of_columns = np.zeros(4)\n",
    "\n",
    "for nbColumns in range(2,13):\n",
    "#for nbColumns in [2, 5, 10]:\n",
    "    y, tx, ids = oy, otx, oids\n",
    "    test_y, test_tx,test_ids = otest_y, otest_tx, otest_ids\n",
    "    # Preprocessing\n",
    "\n",
    "\n",
    "    PRI_jet_num_colomn_train = tx[:, 22]\n",
    "    PRI_jet_num_colomn_test = test_tx[:, 22]\n",
    "\n",
    "\n",
    "    y_clustered = list()\n",
    "    tx_clustered = list()\n",
    "    ids_clustered = list()\n",
    "    test_y_clustered = list()\n",
    "    test_tx_clustered = list()\n",
    "    test_ids_clustered = list()\n",
    "   \n",
    "\n",
    "    for i in range(4):\n",
    "        indices = [ind for ind,a in enumerate(PRI_jet_num_colomn_train) if a == i]\n",
    "        \n",
    "\n",
    "        y_clustered.append(y[indices])\n",
    "        tx_clustered.append(tx[indices])\n",
    "        ids_clustered.append(ids[indices])\n",
    "\n",
    "        test_indices = [ind for ind,a in enumerate(PRI_jet_num_colomn_test) if a == i]\n",
    "        \n",
    "        test_y_clustered.append(test_y[test_indices])\n",
    "        test_tx_clustered.append(test_tx[test_indices])\n",
    "        test_ids_clustered.append(test_ids[test_indices])\n",
    "\n",
    "        #delete colinear columns and preprocess the data\n",
    "        indices_to_delete = list()\n",
    "        for col in range(tx_clustered[i].shape[1]):\n",
    "            if min(tx_clustered[i][:, col]) == max(tx_clustered[i][:, col]):\n",
    "                indices_to_delete.append(col)\n",
    "\n",
    "        deleted_tx = np.delete(tx_clustered[i], indices_to_delete, 1)\n",
    "        tx_clustered[i] = addColumns(deleted_tx, nbColumns)\n",
    "        \n",
    "        deleted_tx = np.delete(test_tx_clustered[i], indices_to_delete, 1)\n",
    "        test_tx_clustered[i] = addColumns(deleted_tx, nbColumns)\n",
    "\n",
    "\n",
    "    # Cross-Validation & Weight computation\n",
    "\n",
    "    from cross_validation import *\n",
    "    w = list()\n",
    "    result = list()\n",
    "    \n",
    "\n",
    "    loss = 0\n",
    "    perGood = 0\n",
    "    maxW = 0\n",
    "    for i in range(4):\n",
    "        wi,loss_te, perGoodI = cross_validation_run(tx_clustered[i], y_clustered[i])\n",
    "        if(perGoodI > best_per_of_columns[i]):\n",
    "            best_per_of_columns[i] = perGoodI\n",
    "            best_number_of_colums[i] = nbColumns\n",
    "        \n",
    "        w.append(wi)\n",
    "        maxW += np.max(np.abs(wi))/4\n",
    "        loss += loss_te/4\n",
    "        perGood += perGoodI/4\n",
    "        test_y_clustered[i] = predict_labels(w[i], test_tx_clustered[i])\n",
    "        \n",
    "    print(\"Number of columns : \", nbColumns, \" loss : \", loss, \"Max of w : \", maxW,  \" Percentage of true Y : \", perGood)\n",
    "print(best_number_of_colums) "
   ]
  },
  {
   "cell_type": "code",
   "execution_count": 46,
   "metadata": {},
   "outputs": [
    {
     "name": "stdout",
     "output_type": "stream",
     "text": [
      "[ 0.83820762  0.80326008  0.83186438  0.82976899]\n"
     ]
    }
   ],
   "source": [
    "print(best_per_of_columns)"
   ]
  },
  {
   "cell_type": "markdown",
   "metadata": {},
   "source": [
    "# Using least square on [cst, tx, tx^2, ...] \n",
    "31 - 0.695085425438 \n",
    "\n",
    "61 - 0.776\n",
    "\n",
    "91 - 0.787\n",
    "\n",
    "121 - 0.796\n",
    "\n",
    "151 - 0.805\n",
    "\n",
    "181 - 0.807\n",
    "\n",
    "211 - 0.809\n",
    "\n",
    "241 - 0.816\n",
    "\n",
    "271 - 0.822"
   ]
  },
  {
   "cell_type": "markdown",
   "metadata": {},
   "source": [
    "# Computing with good columns"
   ]
  },
  {
   "cell_type": "code",
   "execution_count": 47,
   "metadata": {},
   "outputs": [
    {
     "name": "stdout",
     "output_type": "stream",
     "text": [
      " loss :  2.49018885906e+14 Max of w :  13558.3432935  Percentage of true Y :  0.825775270484\n"
     ]
    }
   ],
   "source": [
    "y, tx, ids = oy, otx, oids\n",
    "test_y, test_tx,test_ids = otest_y, otest_tx, otest_ids\n",
    "# Preprocessing\n",
    "\n",
    "\n",
    "PRI_jet_num_colomn_train = tx[:, 22]\n",
    "PRI_jet_num_colomn_test = test_tx[:, 22]\n",
    "\n",
    "\n",
    "y_clustered = list()\n",
    "tx_clustered = list()\n",
    "ids_clustered = list()\n",
    "test_y_clustered = list()\n",
    "test_tx_clustered = list()\n",
    "test_ids_clustered = list()\n",
    "\n",
    "\n",
    "for i in range(4):\n",
    "    indices = [ind for ind,a in enumerate(PRI_jet_num_colomn_train) if a == i]\n",
    "\n",
    "\n",
    "    y_clustered.append(y[indices])\n",
    "    tx_clustered.append(tx[indices])\n",
    "    ids_clustered.append(ids[indices])\n",
    "\n",
    "    test_indices = [ind for ind,a in enumerate(PRI_jet_num_colomn_test) if a == i]\n",
    "\n",
    "    test_y_clustered.append(test_y[test_indices])\n",
    "    test_tx_clustered.append(test_tx[test_indices])\n",
    "    test_ids_clustered.append(test_ids[test_indices])\n",
    "\n",
    "    #delete colinear columns and preprocess the data\n",
    "    indices_to_delete = list()\n",
    "    for col in range(tx_clustered[i].shape[1]):\n",
    "        if min(tx_clustered[i][:, col]) == max(tx_clustered[i][:, col]):\n",
    "            indices_to_delete.append(col)\n",
    "\n",
    "    deleted_tx = np.delete(tx_clustered[i], indices_to_delete, 1)\n",
    "    tx_clustered[i] = addColumns(deleted_tx, int(best_number_of_colums[i]))\n",
    "\n",
    "    deleted_tx = np.delete(test_tx_clustered[i], indices_to_delete, 1)\n",
    "    test_tx_clustered[i] = addColumns(deleted_tx, int(best_number_of_colums[i]))\n",
    "\n",
    "\n",
    "# Cross-Validation & Weight computation\n",
    "\n",
    "from cross_validation import *\n",
    "w = list()\n",
    "result = list()\n",
    "\n",
    "\n",
    "loss = 0\n",
    "perGood = 0\n",
    "maxW = 0\n",
    "for i in range(4):\n",
    "    wi,loss_te, perGoodI = cross_validation_run(tx_clustered[i], y_clustered[i])\n",
    "    if(perGoodI > best_per_of_columns[i]):\n",
    "        best_per_of_columns[i] = perGoodI\n",
    "        best_number_of_colums[i] = nbColumns\n",
    "\n",
    "    w.append(wi)\n",
    "    maxW += np.max(np.abs(wi))/4\n",
    "    loss += loss_te/4\n",
    "    perGood += perGoodI/4\n",
    "    test_y_clustered[i] = predict_labels(w[i], test_tx_clustered[i])\n",
    "\n",
    "print(\" loss : \", loss, \"Max of w : \", maxW,  \" Percentage of true Y : \", perGood)"
   ]
  },
  {
   "cell_type": "markdown",
   "metadata": {},
   "source": [
    "# Analysing why it isn't working"
   ]
  },
  {
   "cell_type": "code",
   "execution_count": 52,
   "metadata": {},
   "outputs": [
    {
     "name": "stdout",
     "output_type": "stream",
     "text": [
      "-219002.595517\n",
      "Per :  0.838809764495 Len :  99913\n",
      "109\n",
      "-0.058882926976\n",
      "Per :  0.805168678428 Len :  77544\n",
      "221\n",
      "-0.738292260902\n",
      "Per :  0.835129716747 Len :  50379\n",
      "291\n",
      "4.47902871365\n",
      "Per :  0.836266016964 Len :  22164\n",
      "291\n"
     ]
    }
   ],
   "source": [
    "\n",
    "for i in range(4):\n",
    "    realPred = np.dot(tx_clustered[i], w[i])\n",
    "    #print(np.max(realPred))\n",
    "    #df = pd.DataFrame(realPred)\n",
    "    #df.hist(bins=300)\n",
    "    y_pred = predict_labels(w[i],tx_clustered[i])\n",
    "    \n",
    "    false_index = [ind for ind,a in enumerate(y_clustered[i]) if y_pred[ind] != a]\n",
    "    \n",
    "    print(np.mean(realPred[false_index]))\n",
    "    print(\"Per : \", percentageGood(y_clustered[i],tx_clustered[i],w[i]), \"Len : \", len(y_clustered[i]) ) \n",
    "    \n",
    "    print(len(w[i]))\n"
   ]
  },
  {
   "cell_type": "markdown",
   "metadata": {},
   "source": [
    "# Post Processing"
   ]
  },
  {
   "cell_type": "code",
   "execution_count": 53,
   "metadata": {
    "collapsed": true,
    "scrolled": true
   },
   "outputs": [],
   "source": [
    "test_ids = [item for sublist in test_ids_clustered for item in sublist]\n",
    "y_pred = [item for sublist in test_y_clustered for item in sublist]\n",
    "\n",
    "test_ids, y_pred = zip(*sorted(zip(test_ids, y_pred)))"
   ]
  },
  {
   "cell_type": "markdown",
   "metadata": {},
   "source": [
    "# Output Data"
   ]
  },
  {
   "cell_type": "code",
   "execution_count": 54,
   "metadata": {
    "collapsed": true
   },
   "outputs": [],
   "source": [
    "name = 'Current-Best-method.csv'\n",
    "create_csv_submission(test_ids, y_pred, name)"
   ]
  },
  {
   "cell_type": "code",
   "execution_count": 28,
   "metadata": {},
   "outputs": [
    {
     "data": {
      "text/plain": [
       "array([ 0.,  0.,  0.,  0.])"
      ]
     },
     "execution_count": 28,
     "metadata": {},
     "output_type": "execute_result"
    }
   ],
   "source": [
    "np.zeros(4)"
   ]
  },
  {
   "cell_type": "code",
   "execution_count": null,
   "metadata": {
    "collapsed": true
   },
   "outputs": [],
   "source": []
  }
 ],
 "metadata": {
  "anaconda-cloud": {},
  "kernelspec": {
   "display_name": "Python 3",
   "language": "python",
   "name": "python3"
  },
  "language_info": {
   "codemirror_mode": {
    "name": "ipython",
    "version": 3
   },
   "file_extension": ".py",
   "mimetype": "text/x-python",
   "name": "python",
   "nbconvert_exporter": "python",
   "pygments_lexer": "ipython3",
   "version": "3.6.2"
  }
 },
 "nbformat": 4,
 "nbformat_minor": 2
}
